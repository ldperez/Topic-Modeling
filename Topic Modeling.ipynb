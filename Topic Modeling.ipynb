{
 "cells": [
  {
   "cell_type": "markdown",
   "id": "bce2bb89",
   "metadata": {},
   "source": [
    "# ADS 509 Assignment 5.1: Topic Modeling\n",
    "\n",
    "This notebook holds Assignment 5.1 for Module 5 in ADS 509, Applied Text Mining. Work through this notebook, writing code and answering questions where required. \n",
    "\n",
    "In this assignment you will work with a categorical corpus that accompanies `nltk`. You will build the three types of topic models described in Chapter 8 of _Blueprints for Text Analytics using Python_: NMF, LSA, and LDA. You will compare these models to the true categories. \n"
   ]
  },
  {
   "cell_type": "markdown",
   "id": "d87e2c06",
   "metadata": {},
   "source": [
    "## General Assignment Instructions\n",
    "\n",
    "These instructions are included in every assignment, to remind you of the coding standards for the class. Feel free to delete this cell after reading it. \n",
    "\n",
    "One sign of mature code is conforming to a style guide. We recommend the [Google Python Style Guide](https://google.github.io/styleguide/pyguide.html). If you use a different style guide, please include a cell with a link. \n",
    "\n",
    "Your code should be relatively easy-to-read, sensibly commented, and clean. Writing code is a messy process, so please be sure to edit your final submission. Remove any cells that are not needed or parts of cells that contain unnecessary code. Remove inessential `import` statements and make sure that all such statements are moved into the designated cell. \n",
    "\n",
    "Make use of non-code cells for written commentary. These cells should be grammatical and clearly written. In some of these cells you will have questions to answer. The questions will be marked by a \"Q:\" and will have a corresponding \"A:\" spot for you. *Make sure to answer every question marked with a `Q:` for full credit.* \n"
   ]
  },
  {
   "cell_type": "code",
   "execution_count": 91,
   "id": "dabf2118",
   "metadata": {},
   "outputs": [],
   "source": [
    "import warnings\n",
    "warnings.filterwarnings(\"ignore\", category=DeprecationWarning)"
   ]
  },
  {
   "cell_type": "code",
   "execution_count": 92,
   "id": "a85bce08",
   "metadata": {},
   "outputs": [],
   "source": [
    "# These libraries may be useful to you\n",
    "\n",
    "from nltk.corpus import brown\n",
    "\n",
    "import numpy as np\n",
    "import pandas as pd\n",
    "from tqdm.auto import tqdm\n",
    "\n",
    "import pyLDAvis\n",
    "import pyLDAvis.sklearn\n",
    "import pyLDAvis.gensim_models\n",
    "\n",
    "import spacy\n",
    "from sklearn.feature_extraction.text import TfidfVectorizer, CountVectorizer\n",
    "from sklearn.decomposition import NMF, TruncatedSVD, LatentDirichletAllocation\n",
    "\n",
    "from spacy.lang.en.stop_words import STOP_WORDS as stopwords\n",
    "\n",
    "from collections import Counter, defaultdict\n",
    "\n",
    "nlp = spacy.load('en_core_web_sm')"
   ]
  },
  {
   "cell_type": "code",
   "execution_count": 93,
   "id": "a218df60",
   "metadata": {},
   "outputs": [
    {
     "name": "stderr",
     "output_type": "stream",
     "text": [
      "[nltk_data] Downloading package brown to C:\\Users\\Luis\n",
      "[nltk_data]     Perez\\AppData\\Roaming\\nltk_data...\n",
      "[nltk_data]   Package brown is already up-to-date!\n"
     ]
    }
   ],
   "source": [
    "# add any additional libaries you need here\n",
    "\n",
    "import nltk\n",
    "nltk.download('brown')\n",
    "from sklearn.metrics import confusion_matrix"
   ]
  },
  {
   "cell_type": "code",
   "execution_count": 94,
   "id": "494de237",
   "metadata": {},
   "outputs": [],
   "source": [
    "# This function comes from the BTAP repo.\n",
    "\n",
    "def display_topics(model, features, no_top_words=5):\n",
    "    for topic, words in enumerate(model.components_):\n",
    "        total = words.sum()\n",
    "        largest = words.argsort()[::-1] # invert sort order\n",
    "        print(\"\\nTopic %02d\" % topic)\n",
    "        for i in range(0, no_top_words):\n",
    "            print(\"  %s (%2.2f)\" % (features[largest[i]], abs(words[largest[i]]*100.0/total)))"
   ]
  },
  {
   "cell_type": "markdown",
   "id": "a30a901c",
   "metadata": {},
   "source": [
    "## Getting to Know the Brown Corpus\n",
    "\n",
    "Let's spend a bit of time getting to know what's in the Brown corpus, our NLTK example of an \"overlapping\" corpus."
   ]
  },
  {
   "cell_type": "code",
   "execution_count": 95,
   "id": "457c59ed",
   "metadata": {},
   "outputs": [
    {
     "name": "stdout",
     "output_type": "stream",
     "text": [
      "For adventure we have 29 articles.\n",
      "For belles_lettres we have 75 articles.\n",
      "For editorial we have 27 articles.\n",
      "For fiction we have 29 articles.\n",
      "For government we have 30 articles.\n",
      "For hobbies we have 36 articles.\n",
      "For humor we have 9 articles.\n",
      "For learned we have 80 articles.\n",
      "For lore we have 48 articles.\n",
      "For mystery we have 24 articles.\n",
      "For news we have 44 articles.\n",
      "For religion we have 17 articles.\n",
      "For reviews we have 17 articles.\n",
      "For romance we have 29 articles.\n",
      "For science_fiction we have 6 articles.\n"
     ]
    }
   ],
   "source": [
    "# categories of articles in Brown corpus\n",
    "for category in brown.categories() :\n",
    "    print(f\"For {category} we have {len(brown.fileids(categories=category))} articles.\")"
   ]
  },
  {
   "cell_type": "markdown",
   "id": "23fb133c",
   "metadata": {},
   "source": [
    "Let's create a dataframe of the articles in of hobbies, editorial, government, news, and romance."
   ]
  },
  {
   "cell_type": "code",
   "execution_count": 96,
   "id": "18f50b9d",
   "metadata": {},
   "outputs": [
    {
     "data": {
      "text/plain": [
       "(166, 3)"
      ]
     },
     "execution_count": 96,
     "metadata": {},
     "output_type": "execute_result"
    }
   ],
   "source": [
    "categories = ['editorial','government','news','romance','hobbies'] \n",
    "\n",
    "category_list = []\n",
    "file_ids = []\n",
    "texts = []\n",
    "\n",
    "for category in categories : \n",
    "    for file_id in brown.fileids(categories=category) :\n",
    "        \n",
    "        # build some lists for a dataframe\n",
    "        category_list.append(category)\n",
    "        file_ids.append(file_id)\n",
    "        \n",
    "        text = brown.words(fileids=file_id)\n",
    "        texts.append(\" \".join(text))\n",
    "\n",
    "        \n",
    "        \n",
    "df = pd.DataFrame()\n",
    "df['category'] = category_list\n",
    "df['id'] = file_ids\n",
    "df['text'] = texts \n",
    "\n",
    "df.shape"
   ]
  },
  {
   "cell_type": "code",
   "execution_count": 97,
   "id": "586f47de",
   "metadata": {},
   "outputs": [],
   "source": [
    "# Let's add some helpful columns on the df\n",
    "df['char_len'] = df['text'].apply(len)\n",
    "df['word_len'] = df['text'].apply(lambda x: len(x.split()))\n"
   ]
  },
  {
   "cell_type": "code",
   "execution_count": 98,
   "id": "2128fd2d",
   "metadata": {
    "scrolled": false
   },
   "outputs": [
    {
     "data": {
      "text/plain": [
       "<AxesSubplot:xlabel='category'>"
      ]
     },
     "execution_count": 98,
     "metadata": {},
     "output_type": "execute_result"
    },
    {
     "data": {
      "image/png": "[encoded data removed]",
      "text/plain": [
       "<Figure size 720x432 with 1 Axes>"
      ]
     },
     "metadata": {
      "needs_background": "light"
     },
     "output_type": "display_data"
    }
   ],
   "source": [
    "%matplotlib inline\n",
    "df.groupby('category').agg({'word_len': 'mean'}).plot.bar(figsize=(10,6))"
   ]
  },
  {
   "cell_type": "markdown",
   "id": "554ffeb5",
   "metadata": {},
   "source": [
    "Now do our TF-IDF and Count vectorizations."
   ]
  },
  {
   "cell_type": "code",
   "execution_count": 99,
   "id": "21a7d247",
   "metadata": {},
   "outputs": [
    {
     "name": "stderr",
     "output_type": "stream",
     "text": [
      "D:\\python\\lib\\site-packages\\sklearn\\feature_extraction\\text.py:388: UserWarning: Your stop_words may be inconsistent with your preprocessing. Tokenizing the stop words generated tokens ['ll', 've'] not in stop_words.\n",
      "  warnings.warn('Your stop_words may be inconsistent with '\n"
     ]
    },
    {
     "data": {
      "text/plain": [
       "(166, 4941)"
      ]
     },
     "execution_count": 99,
     "metadata": {},
     "output_type": "execute_result"
    }
   ],
   "source": [
    "count_text_vectorizer = CountVectorizer(stop_words=stopwords, min_df=5, max_df=0.7)\n",
    "count_text_vectors = count_text_vectorizer.fit_transform(df[\"text\"])\n",
    "count_text_vectors.shape"
   ]
  },
  {
   "cell_type": "code",
   "execution_count": 100,
   "id": "875deba9",
   "metadata": {},
   "outputs": [
    {
     "data": {
      "text/plain": [
       "(166, 4941)"
      ]
     },
     "execution_count": 100,
     "metadata": {},
     "output_type": "execute_result"
    }
   ],
   "source": [
    "tfidf_text_vectorizer = TfidfVectorizer(stop_words=stopwords, min_df=5, max_df=0.7)\n",
    "tfidf_text_vectors = tfidf_text_vectorizer.fit_transform(df['text'])\n",
    "tfidf_text_vectors.shape"
   ]
  },
  {
   "cell_type": "markdown",
   "id": "a1062b21",
   "metadata": {},
   "source": [
    "Q: What do the two data frames `count_text_vectors` and `tfidf_text_vectors` hold? \n",
    "\n",
    "A: "
   ]
  },
  {
   "cell_type": "markdown",
   "id": "f77c3f94",
   "metadata": {},
   "source": [
    "## Fitting a Non-Negative Matrix Factorization Model\n",
    "\n",
    "In this section the code to fit a five-topic NMF model has already been written. This code comes directly from the [BTAP repo](https://github.com/blueprints-for-text-analytics-python/blueprints-text), which will help you tremendously in the coming sections. "
   ]
  },
  {
   "cell_type": "code",
   "execution_count": 101,
   "id": "d28745a3",
   "metadata": {},
   "outputs": [
    {
     "name": "stderr",
     "output_type": "stream",
     "text": [
      "D:\\python\\lib\\site-packages\\sklearn\\decomposition\\_nmf.py:312: FutureWarning: The 'init' value, when 'init=None' and n_components is less than n_samples and n_features, will be changed from 'nndsvd' to 'nndsvda' in 1.1 (renaming of 0.26).\n",
      "  warnings.warn((\"The 'init' value, when 'init=None' and \"\n"
     ]
    }
   ],
   "source": [
    "nmf_text_model = NMF(n_components=5, random_state=314)\n",
    "W_nmf_text_matrix = nmf_text_model.fit_transform(tfidf_text_vectors)\n",
    "H_nmf_text_matrix = nmf_text_model.components_"
   ]
  },
  {
   "cell_type": "code",
   "execution_count": 102,
   "id": "a67185e7",
   "metadata": {},
   "outputs": [
    {
     "name": "stdout",
     "output_type": "stream",
     "text": [
      "\n",
      "Topic 00\n",
      "  mr (0.51)\n",
      "  president (0.45)\n",
      "  kennedy (0.43)\n",
      "  united (0.42)\n",
      "  khrushchev (0.40)\n",
      "\n",
      "Topic 01\n",
      "  said (0.88)\n",
      "  didn (0.46)\n",
      "  ll (0.45)\n",
      "  thought (0.42)\n",
      "  man (0.37)\n",
      "\n",
      "Topic 02\n",
      "  state (0.40)\n",
      "  development (0.36)\n",
      "  tax (0.33)\n",
      "  sales (0.30)\n",
      "  program (0.25)\n",
      "\n",
      "Topic 03\n",
      "  mrs (2.61)\n",
      "  mr (0.78)\n",
      "  said (0.64)\n",
      "  miss (0.52)\n",
      "  car (0.51)\n",
      "\n",
      "Topic 04\n",
      "  game (1.01)\n",
      "  league (0.74)\n",
      "  ball (0.72)\n",
      "  baseball (0.71)\n",
      "  team (0.66)\n"
     ]
    }
   ],
   "source": [
    "display_topics(nmf_text_model, tfidf_text_vectorizer.get_feature_names())"
   ]
  },
  {
   "cell_type": "markdown",
   "id": "fee51e9b",
   "metadata": {},
   "source": [
    "Now some work for you to do. Compare the NMF factorization to the original categories from the Brown Corpus.\n",
    "\n",
    "We are interested in the extent to which our NMF factorization agrees or disagrees with the original categories in the corpus. For each topic in your NMF model, tally the Brown categories and interpret the results. \n"
   ]
  },
  {
   "cell_type": "code",
   "execution_count": 103,
   "id": "dfa228b2",
   "metadata": {},
   "outputs": [
    {
     "data": {
      "text/plain": [
       "{'editorial': [20, 4, 2, 0, 1],\n",
       " 'government': [4, 0, 26, 0, 0],\n",
       " 'news': [8, 0, 11, 17, 8],\n",
       " 'romance': [0, 29, 0, 0, 0],\n",
       " 'hobbies': [0, 8, 26, 1, 1]}"
      ]
     },
     "execution_count": 103,
     "metadata": {},
     "output_type": "execute_result"
    }
   ],
   "source": [
    "df['assigned_topic'] = [np.argmax(row) for row in W_nmf_text_matrix]\n",
    "\n",
    "nmf_topic_counts = {}\n",
    "for category in categories:\n",
    "    nmf_topic_counts[category] = [0, 0, 0, 0, 0]\n",
    "    for i in range(len(df)):\n",
    "        if df['category'][i] == category:\n",
    "            nmf_topic_counts[category][df['assigned_topic'][i]] += 1\n",
    "\n",
    "nmf_topic_counts"
   ]
  },
  {
   "cell_type": "markdown",
   "id": "ec653c15",
   "metadata": {},
   "source": [
    "**I am a visual person so lets print out the topics counts**"
   ]
  },
  {
   "cell_type": "markdown",
   "id": "f8d4e2bc",
   "metadata": {},
   "source": [
    "Q: How does your five-topic NMF model compare to the original Brown categories? \n",
    "\n",
    "A: Our NMF model performed poorly compared to the original brown categories. For Topic 0, it categorized correctly most of the articles as editorial(20) with very few exceptions leaking into the government(4) and news (2). Topic 1, had trouble correctly classifying articles as government. For this topic, NMF model misclassified all articles into other topics with most articles labeled romance. Topic 2 had trouble labeling articles as news. Instead, NMF spread the articles between government (17), hobbies(11), and news(8) categories. Topic 3, mislabelled all categories into news. Finally, topic 4 also misclassified all the articles into news instead of hobbies.    "
   ]
  },
  {
   "cell_type": "markdown",
   "id": "82e37cb5",
   "metadata": {},
   "source": [
    "## Fitting an LSA Model\n",
    "\n",
    "In this section, follow the example from the repository and fit an LSA model (called a \"TruncatedSVD\" in `sklearn`). Again fit a five-topic model and compare it to the actual categories in the Brown corpus. Use the TF-IDF vectors for your fit, as above. \n",
    "\n",
    "To be explicit, we are once again interested in the extent to which this LSA factorization agrees or disagrees with the original categories in the corpus. For each topic in your model, tally the Brown categories and interpret the results. \n"
   ]
  },
  {
   "cell_type": "code",
   "execution_count": 104,
   "id": "00b53d3d",
   "metadata": {},
   "outputs": [],
   "source": [
    "# Your code here\n",
    "lsa_text_model = TruncatedSVD(n_components=5, random_state=314)\n",
    "W_lsa_text_matrix = lsa_text_model.fit_transform(tfidf_text_vectors)\n",
    "H_lsa_text_matrix = lsa_text_model.components_"
   ]
  },
  {
   "cell_type": "code",
   "execution_count": 105,
   "id": "78dd6e83",
   "metadata": {},
   "outputs": [],
   "source": [
    "df['assigned_topic'] = [np.argmax(row) for row in W_lsa_text_matrix]\n",
    "\n",
    "lsa_topic_counts = {}\n",
    "for category in categories:\n",
    "    lsa_topic_counts[category] = [0, 0, 0, 0, 0]\n",
    "    for i in range(len(df)):\n",
    "        if df['category'][i] == category:\n",
    "            lsa_topic_counts[category][df['assigned_topic'][i]] += 1\n",
    "\n"
   ]
  },
  {
   "cell_type": "code",
   "execution_count": 106,
   "id": "db6b4999",
   "metadata": {},
   "outputs": [
    {
     "data": {
      "text/plain": [
       "{'editorial': [27, 0, 0, 0, 0],\n",
       " 'government': [30, 0, 0, 0, 0],\n",
       " 'news': [34, 0, 0, 3, 7],\n",
       " 'romance': [21, 8, 0, 0, 0],\n",
       " 'hobbies': [36, 0, 0, 0, 0]}"
      ]
     },
     "execution_count": 106,
     "metadata": {},
     "output_type": "execute_result"
    }
   ],
   "source": [
    "lsa_topic_counts"
   ]
  },
  {
   "cell_type": "markdown",
   "id": "4d94d56f",
   "metadata": {},
   "source": [
    "Q: How does your five-topic LSA model compare to the original Brown categories? \n",
    "\n",
    "A: The LSA model performed well when comparing to the original Brown categories. Topic 0, 1, and 4 labeled all the articles into the corresponding Brown labeled category editorial, government, and hobbies respectevy. Topic 2, mostly captured all articles as news(34) with only a few going into romance(3) and hobbies(7). Topic 3, also captured most into the correct romance category with only 8 articles misclassified."
   ]
  },
  {
   "cell_type": "code",
   "execution_count": 107,
   "id": "377a886e",
   "metadata": {},
   "outputs": [
    {
     "name": "stdout",
     "output_type": "stream",
     "text": [
      "\n",
      "Topic 00\n",
      "  said (0.44)\n",
      "  mr (0.25)\n",
      "  mrs (0.22)\n",
      "  state (0.20)\n",
      "  man (0.17)\n",
      "\n",
      "Topic 01\n",
      "  said (3.89)\n",
      "  ll (2.73)\n",
      "  didn (2.63)\n",
      "  thought (2.20)\n",
      "  got (1.97)\n",
      "\n",
      "Topic 02\n",
      "  mrs (3.12)\n",
      "  mr (1.70)\n",
      "  said (1.06)\n",
      "  kennedy (0.82)\n",
      "  khrushchev (0.77)\n",
      "\n",
      "Topic 03\n",
      "  mrs (29.45)\n",
      "  club (6.53)\n",
      "  game (6.12)\n",
      "  jr (5.60)\n",
      "  university (5.20)\n",
      "\n",
      "Topic 04\n",
      "  game (4.54)\n",
      "  league (3.27)\n",
      "  baseball (3.22)\n",
      "  ball (3.10)\n",
      "  team (2.94)\n"
     ]
    }
   ],
   "source": [
    "# call display_topics on your model\n",
    "\n",
    "display_topics(lsa_text_model, tfidf_text_vectorizer.get_feature_names())"
   ]
  },
  {
   "cell_type": "markdown",
   "id": "ea8b280a",
   "metadata": {},
   "source": [
    "Q: What is your interpretation of the display topics output? \n",
    "\n",
    "A: From the display topics (LSA) I can see that topics 0 and 1 would be a challenge since they have similar and overlapping words. Topic 2 has Kennedy and Khrushchev as topics that could mislead into labeling as government or news. Topics 03 and 04 at first glance seem to be related to sports, where depending on who wrote the articles can fall into romance or hobbies categories. Overall, it shows how this is not a straightforward task and correctly labeling each article is a difficult task. "
   ]
  },
  {
   "cell_type": "markdown",
   "id": "b4ab4d29",
   "metadata": {},
   "source": [
    "## Fitting an LDA Model\n",
    "\n",
    "Finally, fit a five-topic LDA model using the count vectors (`count_text_vectors` from above). Display the results using `pyLDAvis.display` and describe what you learn from that visualization. "
   ]
  },
  {
   "cell_type": "code",
   "execution_count": 108,
   "id": "802cb8ff",
   "metadata": {},
   "outputs": [],
   "source": [
    "# Fit your LDA model here\n",
    "lda_text_model = LatentDirichletAllocation(n_components=5, random_state=314)\n",
    "W_lda_text_matrix = lda_text_model.fit_transform(count_text_vectors)\n",
    "H_lda_text_matrix = lda_text_model.components_"
   ]
  },
  {
   "cell_type": "code",
   "execution_count": 109,
   "id": "ab18adf5",
   "metadata": {},
   "outputs": [
    {
     "name": "stdout",
     "output_type": "stream",
     "text": [
      "\n",
      "Topic 00\n",
      "  said (1.05)\n",
      "  mrs (0.82)\n",
      "  little (0.56)\n",
      "  good (0.51)\n",
      "  way (0.50)\n",
      "\n",
      "Topic 01\n",
      "  state (0.67)\n",
      "  development (0.63)\n",
      "  000 (0.57)\n",
      "  program (0.48)\n",
      "  business (0.44)\n",
      "\n",
      "Topic 02\n",
      "  said (1.18)\n",
      "  mr (0.72)\n",
      "  president (0.51)\n",
      "  city (0.43)\n",
      "  state (0.37)\n",
      "\n",
      "Topic 03\n",
      "  feed (0.55)\n",
      "  college (0.54)\n",
      "  general (0.44)\n",
      "  university (0.43)\n",
      "  work (0.37)\n",
      "\n",
      "Topic 04\n",
      "  states (1.14)\n",
      "  state (1.02)\n",
      "  united (0.84)\n",
      "  shall (0.66)\n",
      "  government (0.61)\n"
     ]
    }
   ],
   "source": [
    "# Call `display_topics` on your fitted model here\n",
    "display_topics(lda_text_model, tfidf_text_vectorizer.get_feature_names())"
   ]
  },
  {
   "cell_type": "code",
   "execution_count": 110,
   "id": "3fa59de8",
   "metadata": {},
   "outputs": [
    {
     "data": {
      "text/plain": [
       "{'editorial': [3, 1, 21, 2, 0],\n",
       " 'government': [1, 12, 3, 4, 10],\n",
       " 'news': [4, 3, 32, 3, 2],\n",
       " 'romance': [28, 0, 1, 0, 0],\n",
       " 'hobbies': [11, 9, 2, 8, 6]}"
      ]
     },
     "execution_count": 110,
     "metadata": {},
     "output_type": "execute_result"
    }
   ],
   "source": [
    "df['assigned_topic'] = [np.argmax(row) for row in W_lda_text_matrix]\n",
    "\n",
    "lda_topic_counts = {}\n",
    "for category in categories:\n",
    "    lda_topic_counts[category] = [0, 0, 0, 0, 0]\n",
    "    for i in range(len(df)):\n",
    "        if df['category'][i] == category:\n",
    "            lda_topic_counts[category][df['assigned_topic'][i]] += 1\n",
    "\n",
    "lda_topic_counts"
   ]
  },
  {
   "cell_type": "markdown",
   "id": "f2c67876",
   "metadata": {},
   "source": [
    "Q: What inference do you draw from the displayed topics for your LDA model? \n",
    "\n",
    "A: From the start, I can see that LDA will have trouble correctly classifying compared to Brown categories. The displayed topics seem to have captured words that don't give out a topic by themselves. All topics seemed to spread out into many topics or categories\n",
    "\n",
    "Q: Repeat the tallying of Brown categories within your topics. How does your five-topic LDA model compare to the original Brown categories? \n",
    "\n",
    "A: From the observations on the displayed topics, seems that LDA was not able to correctly categorize most of the topics. The only category that LDA seems to have been able to correctly label is topic 3 where it correctly categorized most of the articles as romance. Other than that all other topics were spread into multiple categories.    "
   ]
  },
  {
   "cell_type": "code",
   "execution_count": 111,
   "id": "6aae75ca",
   "metadata": {},
   "outputs": [],
   "source": [
    "lda_display = pyLDAvis.sklearn.prepare(lda_text_model, count_text_vectors, count_text_vectorizer, sort_topics=False)\n"
   ]
  },
  {
   "cell_type": "code",
   "execution_count": 112,
   "id": "2a89fc15",
   "metadata": {},
   "outputs": [
    {
     "data": {
      "text/html": [
       "\n",
       "<link rel=\"stylesheet\" type=\"text/css\" href=\"https://cdn.jsdelivr.net/gh/bmabey/pyLDAvis@3.3.1/pyLDAvis/js/ldavis.v1.0.0.css\">\n",
       "\n",
       "\n",
       "<div id=\"ldavis_el420425292995758567205797784\"></div>\n",
       "<script type=\"text/javascript\">\n",
       "\n",
       "var ldavis_el420425292995758567205797784_data = {\"mdsDat\": {\"x\": [-0.24352303362204122, 0.13055719395525903, -0.05665667547392737, 0.041427484839750596, 0.12819503030095908], \"y\": [0.006829720679474092, -0.05588474470164357, 0.03852366287446773, -0.1128521523095611, 0.12338351345726285], \"topics\": [1, 2, 3, 4, 5], \"cluster\": [1, 1, 1, 1, 1], \"Freq\": [22.896957296534556, 20.43196854284167, 32.00626407252686, 12.368825612931957, 12.295984475164952]}, \"tinfo\": {\"Term\": [\"states\", \"state\", \"said\", \"mrs\", \"united\", \"shall\", \"development\", \"tax\", \"feed\", \"fiscal\", \"college\", \"government\", \"ll\", \"don\", \"000\", \"university\", \"department\", \"didn\", \"sales\", \"president\", \"rhode\", \"got\", \"equipment\", \"little\", \"mother\", \"class\", \"act\", \"program\", \"system\", \"property\", \"hair\", \"baby\", \"clothes\", \"walls\", \"anne\", \"fig\", \"pale\", \"pink\", \"dry\", \"yellow\", \"entrance\", \"hadn\", \"ham\", \"couldn\", \"frames\", \"fingers\", \"flowers\", \"windows\", \"bride\", \"hell\", \"handsome\", \"coat\", \"cloth\", \"sweet\", \"stared\", \"liked\", \"colored\", \"studio\", \"bed\", \"trees\", \"shelter\", \"mother\", \"looked\", \"clay\", \"wasn\", \"guests\", \"didn\", \"woman\", \"sat\", \"pieces\", \"colors\", \"eyes\", \"drill\", \"mrs\", \"ll\", \"don\", \"thought\", \"room\", \"sun\", \"inch\", \"ve\", \"black\", \"little\", \"knew\", \"went\", \"sure\", \"got\", \"door\", \"look\", \"son\", \"know\", \"said\", \"way\", \"come\", \"came\", \"good\", \"place\", \"away\", \"old\", \"water\", \"right\", \"man\", \"let\", \"life\", \"left\", \"house\", \"day\", \"home\", \"systems\", \"marketing\", \"electronic\", \"boats\", \"missiles\", \"components\", \"aircraft\", \"machine\", \"rhode\", \"assessment\", \"shipments\", \"laboratory\", \"bankers\", \"savings\", \"yield\", \"industrial\", \"forests\", \"compared\", \"machines\", \"procurement\", \"missile\", \"conservation\", \"utility\", \"inventories\", \"polaris\", \"manufacturing\", \"machinery\", \"investment\", \"recreation\", \"banks\", \"property\", \"industry\", \"equipment\", \"sales\", \"radiation\", \"planning\", \"development\", \"medical\", \"providence\", \"billion\", \"system\", \"shares\", \"manufacturers\", \"island\", \"1960\", \"production\", \"1959\", \"products\", \"research\", \"co\", \"range\", \"000\", \"program\", \"business\", \"cost\", \"million\", \"available\", \"state\", \"small\", \"company\", \"national\", \"1961\", \"provide\", \"areas\", \"service\", \"use\", \"military\", \"tax\", \"public\", \"khrushchev\", \"player\", \"rayburn\", \"congo\", \"republican\", \"moscow\", \"southern\", \"baseball\", \"railroad\", \"castro\", \"troops\", \"yards\", \"charter\", \"yankees\", \"premier\", \"alexander\", \"democrats\", \"captain\", \"chinese\", \"coach\", \"laos\", \"gen\", \"cuban\", \"opposition\", \"soviet\", \"katanga\", \"republicans\", \"pope\", \"bombs\", \"robinson\", \"berlin\", \"speaker\", \"communist\", \"democratic\", \"eisenhower\", \"league\", \"mayor\", \"cuba\", \"st\", \"police\", \"yesterday\", \"china\", \"west\", \"monday\", \"race\", \"john\", \"east\", \"kennedy\", \"city\", \"mr\", \"meeting\", \"party\", \"president\", \"said\", \"week\", \"war\", \"political\", \"nations\", \"game\", \"committee\", \"leaders\", \"american\", \"world\", \"york\", \"home\", \"county\", \"man\", \"united\", \"people\", \"house\", \"state\", \"day\", \"old\", \"000\", \"government\", \"men\", \"national\", \"states\", \"school\", \"academic\", \"faculty\", \"trustees\", \"campus\", \"recognition\", \"classical\", \"professors\", \"mathematics\", \"musical\", \"tends\", \"feed\", \"stockholders\", \"fulfill\", \"meat\", \"unions\", \"chemical\", \"motors\", \"prosperity\", \"cattle\", \"prestige\", \"designer\", \"curriculum\", \"clerical\", \"catholic\", \"collective\", \"recorded\", \"appearances\", \"creative\", \"membership\", \"trust\", \"music\", \"chamber\", \"students\", \"student\", \"colleges\", \"teachers\", \"college\", \"engineer\", \"interior\", \"university\", \"daily\", \"pool\", \"schools\", \"education\", \"art\", \"general\", \"anti\", \"members\", \"technical\", \"labor\", \"design\", \"administration\", \"level\", \"work\", \"school\", \"president\", \"problem\", \"board\", \"department\", \"american\", \"good\", \"men\", \"aid\", \"world\", \"high\", \"cousin\", \"rehabilitation\", \"coal\", \"vocational\", \"definition\", \"denied\", \"thereof\", \"bonds\", \"payment\", \"rico\", \"puerto\", \"coordination\", \"filing\", \"adopting\", \"recommendation\", \"calendar\", \"hated\", \"proceedings\", \"commodities\", \"sectors\", \"connections\", \"62\", \"vehicles\", \"allocation\", \"treasury\", \"tractor\", \"adjustments\", \"upstairs\", \"shall\", \"assigned\", \"india\", \"exercise\", \"interference\", \"payments\", \"fiscal\", \"authorized\", \"claim\", \"stations\", \"insurance\", \"claims\", \"class\", \"states\", \"income\", \"return\", \"tax\", \"united\", \"junior\", \"hearing\", \"act\", \"countries\", \"cars\", \"state\", \"agreement\", \"department\", \"government\", \"secretary\", \"officer\", \"section\", \"title\", \"federal\", \"use\", \"service\", \"30\", \"board\", \"services\", \"pay\", \"local\", \"day\"], \"Freq\": [328.0, 485.0, 803.0, 307.0, 298.0, 123.0, 199.0, 172.0, 93.0, 107.0, 120.0, 273.0, 167.0, 178.0, 282.0, 122.0, 153.0, 124.0, 117.0, 297.0, 86.0, 147.0, 105.0, 237.0, 97.0, 97.0, 127.0, 230.0, 142.0, 95.0, 35.26603169767949, 35.25985457287084, 32.342823917150476, 32.338808089183935, 34.23407300433101, 31.327619231629424, 26.498517625454493, 25.524771041025012, 23.573236778164116, 25.427138253320567, 21.619428115149052, 30.993044678951463, 19.675700186736567, 51.439817072385054, 20.589733305570004, 17.726312752092973, 23.305040810822867, 16.7519733109185, 17.67796618496798, 15.781789493525482, 15.780666162782094, 15.76503813900025, 14.80734740664653, 14.806857679256783, 14.806525243898374, 14.805562659021428, 15.721341674975061, 14.793031300690533, 34.148748494261206, 27.742455010304504, 57.20416985925252, 90.05985801714496, 78.93387784968857, 75.71076669182483, 53.90723878296293, 29.982839371430035, 108.73073941993054, 50.250850745194775, 34.934191866446334, 48.2975237626705, 27.14174620759285, 83.9918324965764, 31.328311483268113, 234.33243224195405, 134.73682388828453, 142.22532063652002, 113.48998687104933, 84.70739288661436, 47.85107317359347, 58.28164360651539, 69.82209572678241, 54.447334924203005, 159.93873456068283, 71.32903793545297, 100.47914727932277, 70.80739412891538, 101.54763550743202, 56.56434544201608, 89.1493795819195, 57.94278765631462, 112.80221967394934, 300.19157995270047, 143.0821472058166, 108.66785528409214, 97.93192846288179, 146.7201649075115, 107.63695959300975, 81.8385782657967, 125.33252753577983, 93.6542775665297, 105.80662989454638, 122.4339267375071, 76.37882747857972, 81.85609009063356, 81.2583389474529, 87.71132897871959, 85.95109916972237, 84.1108569037127, 37.62033917696874, 41.260430437148074, 26.108504126894065, 38.01490066718648, 22.240995977940397, 21.22351437468652, 54.24848359225261, 50.39470006191904, 82.33814930496446, 17.226327234066947, 13.599502717078877, 16.290888590985347, 10.740632157231769, 17.005387252552136, 15.133342494227149, 72.03843499105992, 14.938223060271794, 24.574363297207924, 28.908173871233373, 17.448867762039537, 36.58474259793824, 7.854789008100232, 11.322258118599791, 6.910963131905751, 6.906977941612564, 18.167211407818037, 30.17941537930654, 24.91805800990372, 32.62393120086373, 16.267831354180636, 85.04409531611327, 85.23076408361676, 92.04061867537699, 102.21030740338078, 31.419941862258284, 72.29354736159593, 160.58456695669273, 84.12221117793997, 39.27101304252776, 47.1535259083021, 110.9903156769946, 32.526568880509274, 35.569612133742545, 88.51387155669444, 93.20958887097915, 63.84974612826217, 50.27196273949963, 49.6960575465929, 72.63469421541024, 46.826210408830306, 53.98496787689061, 144.62866634727175, 123.50896845655215, 113.19861054790789, 73.61038906890586, 79.16133829903056, 74.6620496918982, 169.46520342295912, 100.42960965644937, 76.12853270707166, 92.20105914345184, 67.160618934701, 66.50125650021155, 62.63129522802704, 86.66947068147974, 95.41631280398028, 65.25389352558287, 67.84173831149279, 65.61364145319287, 73.42554374783124, 48.67768498296595, 46.70642783836326, 43.73337493489188, 39.77817876808446, 37.80010747839432, 34.82722841019424, 39.61877024477508, 32.84180904847268, 29.881397928372568, 26.912817657012965, 26.89959101139297, 27.860295497571613, 25.925615833025617, 24.935202646112852, 24.927860722599334, 23.946196773271833, 23.938724665538537, 22.949710429481566, 22.94066110961124, 49.614781943724104, 21.95531968014698, 20.974708622899165, 20.956960655847766, 78.92743956978485, 19.98234147220937, 19.97284168478858, 19.967439518925545, 18.99653596416777, 18.994551077568083, 63.22425972645921, 40.66068656369516, 70.96278176057119, 59.00465760184134, 38.64663320997924, 57.99120476200709, 43.21771150153894, 36.74625566194077, 71.47530467432689, 44.37915026504163, 58.02965358273168, 32.82823725515492, 96.08418538831441, 58.465154170308566, 40.50565929609315, 142.98368478351784, 83.85420121427481, 111.14875577393495, 172.62353200026382, 287.878142360302, 84.1321370261444, 92.01772270153546, 205.4063487373491, 470.89022085822603, 140.7626514325605, 113.01139950261607, 71.05038233620009, 67.1651888988563, 73.87620209973882, 83.76171945290773, 50.002467140636476, 148.64615016805448, 138.13586962558102, 96.83009236355016, 140.0240462072752, 76.83350051553309, 129.58037547484773, 125.62152536157593, 118.36210204722806, 110.56501449328208, 148.84517946191266, 119.60071243642439, 108.7699114008116, 105.30536803757714, 99.52164947706403, 90.46561781119077, 91.57849254494381, 96.15786407278632, 83.84436994950902, 27.814826569302756, 48.93684709004368, 18.503509985385953, 14.879468477087553, 15.473941152164242, 9.373352607053864, 8.429864173735854, 7.54627241966445, 18.41492046315914, 7.518959799427062, 84.4415543610449, 18.26848656833322, 6.622128289059259, 19.54171382466311, 18.587130254335783, 23.14611199920263, 38.25197181315957, 4.773288678682469, 17.381566736920437, 10.238816773832225, 14.802706325018875, 7.011676741661518, 4.6632729137915465, 25.479595882435987, 10.014582060857427, 7.582398158918697, 4.540015041328735, 12.853649254073646, 19.425628383036603, 29.706978723474975, 46.82501087835085, 21.450400541392433, 52.9943684019591, 54.955281373609125, 16.31100829518621, 25.620730698223614, 83.62014229713998, 24.941675902345786, 28.63345949233645, 67.01241734256244, 33.331261741899816, 43.627376544116814, 49.3203792083083, 46.41828570415886, 34.85619603196484, 67.66899625922004, 32.103813511591724, 51.62302814445564, 31.177936996002856, 33.895493042174444, 35.04082063901765, 44.49327955892531, 35.228834426741294, 56.48861252778257, 47.16711951156416, 55.68778966133512, 39.64150536052152, 42.71566054538628, 38.014824047682275, 43.01510978367196, 42.90256178570244, 38.25715440917887, 34.06878160168541, 37.62879650451383, 34.846070732697065, 24.895381739118, 17.60871047105597, 22.617152720693575, 12.988354717680927, 12.081651178952201, 17.25576125805944, 11.043916669732592, 28.50439130794226, 36.75187172723369, 17.292619041590783, 17.28997371525982, 6.5862018223720495, 15.531276371536151, 5.669749860722204, 16.06995842193483, 20.125736782358253, 5.626627615289117, 6.4164368238586205, 14.343171489794326, 4.761534756745251, 5.547238482984887, 5.532508833757287, 35.56950814402436, 10.223530392476151, 22.866566967658578, 19.4993734117373, 10.913572827235226, 5.430408333634348, 101.16733937850374, 9.141628146127278, 29.604377811543173, 21.945570724591963, 28.494458626329358, 31.90274794139756, 82.2435050790101, 23.619992267391293, 32.823688144756254, 43.57399739685025, 25.75731022225985, 22.213358197218703, 63.52515544416798, 175.30239292056854, 50.039862686245215, 41.16101243435988, 86.65875331991978, 128.39237926387506, 39.910341717438634, 33.8157868277046, 65.01077528351291, 47.42060534620246, 40.20927959281342, 156.29426259717218, 38.83917469224618, 66.0476200298722, 93.49618556474735, 54.839090750252495, 32.98378789632161, 41.66456800174205, 29.989970407909535, 43.23305137556922, 57.37752089386333, 52.70114914664695, 42.224181185310655, 42.527153601330305, 36.829108002786555, 37.09681062937638, 36.744421287420266, 37.1761576760269], \"Total\": [328.0, 485.0, 803.0, 307.0, 298.0, 123.0, 199.0, 172.0, 93.0, 107.0, 120.0, 273.0, 167.0, 178.0, 282.0, 122.0, 153.0, 124.0, 117.0, 297.0, 86.0, 147.0, 105.0, 237.0, 97.0, 97.0, 127.0, 230.0, 142.0, 95.0, 36.02603912499983, 36.02588883819034, 33.10322172299763, 33.10319945151619, 35.05056255948611, 32.1285378748327, 27.25759589658222, 26.2833810576982, 24.334723323645925, 26.28457560730936, 22.386171312703553, 32.134917729304696, 20.437642353730418, 53.48541765786134, 21.413009212119373, 18.488977697815784, 24.319878358135632, 17.51484102850205, 18.489977886518634, 16.540707205667307, 16.54068383919484, 16.54015211825248, 15.566432075823169, 15.566368553159574, 15.566439385894082, 15.566408536159056, 16.541123102771508, 15.566128130021552, 35.961890577969235, 29.216873363902355, 60.42030248595255, 97.50813665440418, 85.71452146351675, 82.76557482881309, 58.488069645836006, 32.15043643449321, 124.77305109139067, 55.495934070275894, 37.896391840765276, 53.44875378566884, 29.186855354435654, 98.42108266493295, 34.10865925517125, 307.9971583578141, 167.83422712513695, 178.18542278378118, 139.8217103611608, 103.42674442190591, 54.56223811623197, 68.7695485643493, 84.83647160041035, 64.2620139704154, 237.75277971425638, 90.51973633420366, 137.70593095628726, 91.77444009129968, 147.79376856176165, 70.06214294099412, 129.8665751690667, 73.99592681862173, 191.48072080434142, 803.8548070648295, 274.85427260577234, 186.0737233498348, 163.15899799670464, 306.43403590768935, 190.15544412730645, 123.89985251249684, 254.8494682894125, 162.7169852126023, 213.57338284403215, 283.0153604519203, 121.95636925526732, 161.530177161579, 163.20991301290175, 234.1218436768741, 302.3464743334503, 268.5137641979603, 38.38900181276879, 42.21975114655712, 26.87023951148846, 39.32530511253743, 23.03135590818633, 22.06902387883873, 56.676640666140884, 52.83541185825127, 86.46800449904778, 18.22147763216326, 14.390064081926603, 17.26236150811231, 11.51144266243095, 18.237457198455743, 16.29290344655112, 78.46760127905361, 16.284197226960174, 26.802268957257567, 31.645263380810622, 19.14727441136655, 40.189557722273264, 8.631750433563731, 12.458169098970632, 7.671836647717199, 7.67195030715787, 20.18844642310025, 33.582287155475136, 27.758165731678766, 36.44648449277569, 18.179838892874372, 95.59958109020074, 96.93212392160387, 105.65758026062842, 117.7857370894222, 35.55944348942247, 85.01192732215908, 199.00113683933074, 101.02292341395618, 45.14381488359431, 54.90118963074972, 142.66262791524, 37.275769525790736, 41.99097586369716, 120.33277045687875, 129.77818451581405, 84.8325637860814, 63.727084038071936, 62.8441872366801, 102.98876739202451, 59.70895018137991, 72.90815716855992, 282.944274124436, 230.32157269786688, 209.32374748162167, 115.94033775080969, 128.9930469541294, 119.71572579817425, 485.5254739281198, 211.3753924823504, 138.53740854960466, 215.73422314818575, 114.91801537520546, 112.93575546782287, 99.90679935398609, 203.5790903421852, 253.44869724604666, 123.30539886857117, 172.8096418311656, 200.80538207395293, 74.18132611605127, 49.44169052826693, 47.46260119923944, 44.49359036010496, 40.53551399617137, 38.55638985076476, 35.58752782843548, 40.524089011304056, 33.60786999510344, 30.639652232810235, 27.670894341231318, 27.670809878218453, 28.659135933770305, 26.681481371686957, 25.691806203590637, 25.69167832547869, 24.702282074756564, 24.702154272987798, 23.712487033002045, 23.711939322752958, 51.344361291669095, 22.722416271833247, 21.733411082028486, 21.732251919217536, 81.93116365784138, 20.743599793201973, 20.74291137765739, 20.743329613458652, 19.75425783489287, 19.754312772549586, 66.10674015267463, 42.43698376216303, 74.99667222533029, 62.130383241294645, 40.45277924173403, 61.20732427285944, 45.37927277280928, 38.479585522126285, 78.03996648950978, 47.297256235347334, 63.02723087036467, 34.52865293710649, 108.34119862739153, 64.0092290665556, 43.340703141696416, 171.4081764578152, 96.50766365165029, 132.04188079153846, 217.9054891778165, 392.8566393536834, 99.38191347480661, 110.41190710132186, 297.089385911943, 803.8548070648295, 190.9527989971511, 148.12895827305633, 84.33186741272114, 80.6543681191089, 91.54281280787266, 111.05863796939236, 55.265203097107104, 262.87614880789016, 256.0899824588552, 148.46972078147328, 268.5137641979603, 105.84498183835268, 283.0153604519203, 298.7240339741694, 265.61772341053455, 234.1218436768741, 485.5254739281198, 302.3464743334503, 254.8494682894125, 282.944274124436, 273.1049196397214, 193.49518722056047, 215.73422314818575, 328.087663003433, 171.6826664515605, 28.587671191002865, 50.75235104005463, 19.38080581059398, 15.693304333758881, 16.6334148630752, 10.165631588135184, 9.24571212382062, 8.32222688895905, 20.348539793129625, 8.322341294361452, 93.52912134200896, 20.350673528278264, 7.4011953170638325, 22.20297288052511, 21.263556998272566, 26.864176614307752, 44.46685073473461, 5.55915679438877, 20.42984832479431, 12.080566726948897, 17.616166085442195, 8.344571664079318, 5.563614525856892, 30.740062340111095, 12.097121988775967, 9.30906225992751, 5.57581096537123, 15.790102910241009, 24.236359627179446, 37.14065807513554, 59.64261324812844, 27.08108297787435, 68.97438698866304, 71.6827549228916, 20.467141713564434, 33.34760135025247, 120.99975166695643, 32.58028930812072, 39.89608051957484, 122.31078776847795, 52.49852760150617, 75.2321283027008, 89.45812584148686, 84.56146294600374, 57.493258352735715, 198.00621277778868, 57.79720640203338, 140.21994582812468, 57.24356765830149, 68.34216300022531, 74.72871037779423, 131.40907157119443, 82.98496450235831, 256.9778623927557, 171.6826664515605, 297.089385911943, 117.3628247872546, 173.02514764709488, 153.03062002567165, 262.87614880789016, 306.43403590768935, 193.49518722056047, 99.64739691842234, 256.0899824588552, 217.96093203160189, 25.719900356958192, 18.37920616005883, 23.88499509622225, 13.79580136359661, 12.87739387343772, 18.395872134442186, 11.965555537317142, 31.301788527830148, 40.52555344944825, 19.305747619464807, 19.305381735642015, 7.3736650185943615, 17.51611079447868, 6.456504867903878, 18.386543136832017, 23.07591468933518, 6.459370956327425, 7.374057915469411, 16.59345163924978, 5.538818995171583, 6.462219526241374, 6.4572042167440555, 41.582448440815845, 11.963052970316353, 26.870254060738862, 23.09135146214564, 12.931560935207882, 6.471692815484709, 123.04949327573007, 11.12909382613575, 36.087265967704255, 26.774612595552874, 35.191972553443776, 39.791548185353335, 107.51555928474966, 29.57370429691561, 42.54665994150676, 57.808559354594045, 33.291642037189256, 28.65897514261264, 97.1696828583259, 328.087663003433, 79.94285226747937, 64.56516799991918, 172.8096418311656, 298.7240339741694, 62.79076549191279, 50.551680739665, 127.86759220361678, 82.87435176840481, 65.84647973719719, 485.5254739281198, 64.87874739797846, 153.03062002567165, 273.1049196397214, 119.84296064796655, 52.25627453052503, 81.49566812100727, 44.58064300425612, 112.63804601931182, 253.44869724604666, 203.5790903421852, 114.38793137157599, 173.02514764709488, 93.38657624530413, 103.89058589990498, 128.42114372832097, 302.3464743334503], \"Category\": [\"Default\", \"Default\", \"Default\", \"Default\", \"Default\", \"Default\", \"Default\", \"Default\", \"Default\", \"Default\", \"Default\", \"Default\", \"Default\", \"Default\", \"Default\", \"Default\", \"Default\", \"Default\", \"Default\", \"Default\", \"Default\", \"Default\", \"Default\", \"Default\", \"Default\", \"Default\", \"Default\", \"Default\", \"Default\", \"Default\", \"Topic1\", \"Topic1\", \"Topic1\", \"Topic1\", \"Topic1\", \"Topic1\", \"Topic1\", \"Topic1\", \"Topic1\", \"Topic1\", \"Topic1\", \"Topic1\", \"Topic1\", \"Topic1\", \"Topic1\", \"Topic1\", \"Topic1\", \"Topic1\", \"Topic1\", \"Topic1\", \"Topic1\", \"Topic1\", \"Topic1\", \"Topic1\", \"Topic1\", \"Topic1\", \"Topic1\", \"Topic1\", \"Topic1\", \"Topic1\", \"Topic1\", \"Topic1\", \"Topic1\", \"Topic1\", \"Topic1\", \"Topic1\", \"Topic1\", \"Topic1\", \"Topic1\", \"Topic1\", \"Topic1\", \"Topic1\", \"Topic1\", \"Topic1\", \"Topic1\", \"Topic1\", \"Topic1\", \"Topic1\", \"Topic1\", \"Topic1\", \"Topic1\", \"Topic1\", \"Topic1\", \"Topic1\", \"Topic1\", \"Topic1\", \"Topic1\", \"Topic1\", \"Topic1\", \"Topic1\", \"Topic1\", \"Topic1\", \"Topic1\", \"Topic1\", \"Topic1\", \"Topic1\", \"Topic1\", \"Topic1\", \"Topic1\", \"Topic1\", \"Topic1\", \"Topic1\", \"Topic1\", \"Topic1\", \"Topic1\", \"Topic1\", \"Topic1\", \"Topic1\", \"Topic2\", \"Topic2\", \"Topic2\", \"Topic2\", \"Topic2\", \"Topic2\", \"Topic2\", \"Topic2\", \"Topic2\", \"Topic2\", \"Topic2\", \"Topic2\", \"Topic2\", \"Topic2\", \"Topic2\", \"Topic2\", \"Topic2\", \"Topic2\", \"Topic2\", \"Topic2\", \"Topic2\", \"Topic2\", \"Topic2\", \"Topic2\", \"Topic2\", \"Topic2\", \"Topic2\", \"Topic2\", \"Topic2\", \"Topic2\", \"Topic2\", \"Topic2\", \"Topic2\", \"Topic2\", \"Topic2\", \"Topic2\", \"Topic2\", \"Topic2\", \"Topic2\", \"Topic2\", \"Topic2\", \"Topic2\", \"Topic2\", \"Topic2\", \"Topic2\", \"Topic2\", \"Topic2\", \"Topic2\", \"Topic2\", \"Topic2\", \"Topic2\", \"Topic2\", \"Topic2\", \"Topic2\", \"Topic2\", \"Topic2\", \"Topic2\", \"Topic2\", \"Topic2\", \"Topic2\", \"Topic2\", \"Topic2\", \"Topic2\", \"Topic2\", \"Topic2\", \"Topic2\", \"Topic2\", \"Topic2\", \"Topic2\", \"Topic3\", \"Topic3\", \"Topic3\", \"Topic3\", \"Topic3\", \"Topic3\", \"Topic3\", \"Topic3\", \"Topic3\", \"Topic3\", \"Topic3\", \"Topic3\", \"Topic3\", \"Topic3\", \"Topic3\", \"Topic3\", \"Topic3\", \"Topic3\", \"Topic3\", \"Topic3\", \"Topic3\", \"Topic3\", \"Topic3\", \"Topic3\", \"Topic3\", \"Topic3\", \"Topic3\", \"Topic3\", \"Topic3\", \"Topic3\", \"Topic3\", \"Topic3\", \"Topic3\", \"Topic3\", \"Topic3\", \"Topic3\", \"Topic3\", \"Topic3\", \"Topic3\", \"Topic3\", \"Topic3\", \"Topic3\", \"Topic3\", \"Topic3\", \"Topic3\", \"Topic3\", \"Topic3\", \"Topic3\", \"Topic3\", \"Topic3\", \"Topic3\", \"Topic3\", \"Topic3\", \"Topic3\", \"Topic3\", \"Topic3\", \"Topic3\", \"Topic3\", \"Topic3\", \"Topic3\", \"Topic3\", \"Topic3\", \"Topic3\", \"Topic3\", \"Topic3\", \"Topic3\", \"Topic3\", \"Topic3\", \"Topic3\", \"Topic3\", \"Topic3\", \"Topic3\", \"Topic3\", \"Topic3\", \"Topic3\", \"Topic3\", \"Topic3\", \"Topic3\", \"Topic3\", \"Topic4\", \"Topic4\", \"Topic4\", \"Topic4\", \"Topic4\", \"Topic4\", \"Topic4\", \"Topic4\", \"Topic4\", \"Topic4\", \"Topic4\", \"Topic4\", \"Topic4\", \"Topic4\", \"Topic4\", \"Topic4\", \"Topic4\", \"Topic4\", \"Topic4\", \"Topic4\", \"Topic4\", \"Topic4\", \"Topic4\", \"Topic4\", \"Topic4\", \"Topic4\", \"Topic4\", \"Topic4\", \"Topic4\", \"Topic4\", \"Topic4\", \"Topic4\", \"Topic4\", \"Topic4\", \"Topic4\", \"Topic4\", \"Topic4\", \"Topic4\", \"Topic4\", \"Topic4\", \"Topic4\", \"Topic4\", \"Topic4\", \"Topic4\", \"Topic4\", \"Topic4\", \"Topic4\", \"Topic4\", \"Topic4\", \"Topic4\", \"Topic4\", \"Topic4\", \"Topic4\", \"Topic4\", \"Topic4\", \"Topic4\", \"Topic4\", \"Topic4\", \"Topic4\", \"Topic4\", \"Topic4\", \"Topic4\", \"Topic4\", \"Topic4\", \"Topic4\", \"Topic5\", \"Topic5\", \"Topic5\", \"Topic5\", \"Topic5\", \"Topic5\", \"Topic5\", \"Topic5\", \"Topic5\", \"Topic5\", \"Topic5\", \"Topic5\", \"Topic5\", \"Topic5\", \"Topic5\", \"Topic5\", \"Topic5\", \"Topic5\", \"Topic5\", \"Topic5\", \"Topic5\", \"Topic5\", \"Topic5\", \"Topic5\", \"Topic5\", \"Topic5\", \"Topic5\", \"Topic5\", \"Topic5\", \"Topic5\", \"Topic5\", \"Topic5\", \"Topic5\", \"Topic5\", \"Topic5\", \"Topic5\", \"Topic5\", \"Topic5\", \"Topic5\", \"Topic5\", \"Topic5\", \"Topic5\", \"Topic5\", \"Topic5\", \"Topic5\", \"Topic5\", \"Topic5\", \"Topic5\", \"Topic5\", \"Topic5\", \"Topic5\", \"Topic5\", \"Topic5\", \"Topic5\", \"Topic5\", \"Topic5\", \"Topic5\", \"Topic5\", \"Topic5\", \"Topic5\", \"Topic5\", \"Topic5\", \"Topic5\", \"Topic5\", \"Topic5\", \"Topic5\", \"Topic5\", \"Topic5\"], \"logprob\": [30.0, 29.0, 28.0, 27.0, 26.0, 25.0, 24.0, 23.0, 22.0, 21.0, 20.0, 19.0, 18.0, 17.0, 16.0, 15.0, 14.0, 13.0, 12.0, 11.0, 10.0, 9.0, 8.0, 7.0, 6.0, 5.0, 4.0, 3.0, 2.0, 1.0, -6.6963, -6.6965, -6.7828, -6.7829, -6.726, -6.8147, -6.9821, -7.0195, -7.0991, -7.0234, -7.1856, -6.8254, -7.2798, -6.3188, -7.2344, -7.3841, -7.1105, -7.4407, -7.3869, -7.5003, -7.5004, -7.5014, -7.5641, -7.5641, -7.5641, -7.5642, -7.5042, -7.565, -6.7285, -6.9362, -6.2126, -5.7587, -5.8906, -5.9323, -6.2719, -6.8586, -5.5703, -6.3422, -6.7057, -6.3818, -6.9581, -5.8285, -6.8147, -4.8025, -5.3559, -5.3018, -5.5275, -5.82, -6.3911, -6.1939, -6.0132, -6.262, -5.1844, -5.9919, -5.6492, -5.9992, -5.6387, -6.2238, -5.7689, -6.1997, -5.5336, -4.5548, -5.2958, -5.5709, -5.6749, -5.2707, -5.5804, -5.8544, -5.4282, -5.7196, -5.5976, -5.4516, -5.9235, -5.8542, -5.8616, -5.7851, -5.8054, -5.8271, -6.5177, -6.4254, -6.883, -6.5073, -7.0434, -7.0902, -6.1517, -6.2254, -5.7345, -7.2989, -7.5353, -7.3547, -7.7713, -7.3118, -7.4284, -5.8681, -7.4414, -6.9436, -6.7812, -7.286, -6.5457, -8.0842, -7.7185, -8.2122, -8.2128, -7.2457, -6.7381, -6.9297, -6.6602, -7.3561, -5.7021, -5.6999, -5.6231, -5.5183, -6.6978, -5.8646, -5.0665, -5.713, -6.4748, -6.2919, -5.4358, -6.6632, -6.5738, -5.6621, -5.6104, -5.9888, -6.2278, -6.2394, -5.8598, -6.2988, -6.1566, -5.1711, -5.329, -5.4161, -5.8465, -5.7738, -5.8323, -5.0126, -5.5358, -5.8129, -5.6213, -5.9382, -5.9481, -6.008, -5.6832, -5.587, -5.967, -5.9281, -5.9615, -6.2979, -6.7089, -6.7502, -6.816, -6.9108, -6.9618, -7.0437, -6.9148, -7.1024, -7.1969, -7.3015, -7.302, -7.2669, -7.3389, -7.3778, -7.3781, -7.4183, -7.4186, -7.4608, -7.4612, -6.6898, -7.5051, -7.5508, -7.5517, -6.2256, -7.5993, -7.5997, -7.6, -7.6499, -7.65, -6.4474, -6.8889, -6.332, -6.5165, -6.9397, -6.5338, -6.8279, -6.9901, -6.3248, -6.8014, -6.5332, -7.1028, -6.0289, -6.5257, -6.8927, -5.6314, -6.165, -5.8833, -5.443, -4.9316, -6.1617, -6.0721, -5.2691, -4.4395, -5.647, -5.8666, -6.3307, -6.387, -6.2917, -6.1661, -6.6821, -5.5926, -5.6659, -6.0212, -5.6523, -6.2525, -5.7298, -5.7608, -5.8204, -5.8885, -5.5912, -5.81, -5.9049, -5.9373, -5.9937, -6.0892, -6.0769, -6.0281, -6.1652, -6.3178, -5.7528, -6.7254, -6.9434, -6.9042, -7.4055, -7.5116, -7.6223, -6.7302, -7.6259, -5.2073, -6.7382, -7.753, -6.6708, -6.7209, -6.5015, -5.9992, -8.0803, -6.788, -7.3172, -6.9486, -7.6958, -8.1037, -6.4055, -7.3393, -7.6175, -8.1304, -7.0897, -6.6768, -6.252, -5.797, -6.5776, -5.6732, -5.6369, -6.8515, -6.4, -5.2171, -6.4268, -6.2888, -5.4385, -6.1369, -5.8677, -5.745, -5.8057, -6.0921, -5.4287, -6.1744, -5.6994, -6.2037, -6.1201, -6.0869, -5.848, -6.0815, -5.6093, -5.7897, -5.6236, -5.9635, -5.8888, -6.0054, -5.8818, -5.8844, -5.999, -6.115, -6.0156, -6.0924, -6.4228, -6.7691, -6.5188, -7.0734, -7.1458, -6.7893, -7.2356, -6.2874, -6.0333, -6.7872, -6.7873, -7.7525, -6.8946, -7.9023, -6.8605, -6.6355, -7.91, -7.7786, -6.9742, -8.0769, -7.9242, -7.9268, -6.066, -7.3128, -6.5078, -6.6671, -7.2475, -7.9454, -5.0207, -7.4246, -6.2495, -6.5489, -6.2878, -6.1748, -5.2278, -6.4754, -6.1463, -5.863, -6.3887, -6.5368, -5.486, -4.471, -5.7246, -5.92, -5.1755, -4.7824, -5.9508, -6.1165, -5.4629, -5.7784, -5.9434, -4.5857, -5.978, -5.4471, -5.0995, -5.6331, -6.1414, -5.9078, -6.2366, -5.8709, -5.5878, -5.6728, -5.8945, -5.8873, -6.0312, -6.0239, -6.0335, -6.0218], \"loglift\": [30.0, 29.0, 28.0, 27.0, 26.0, 25.0, 24.0, 23.0, 22.0, 21.0, 20.0, 19.0, 18.0, 17.0, 16.0, 15.0, 14.0, 13.0, 12.0, 11.0, 10.0, 9.0, 8.0, 7.0, 6.0, 5.0, 4.0, 3.0, 2.0, 1.0, 1.4528, 1.4527, 1.4509, 1.4508, 1.4506, 1.4489, 1.4459, 1.4449, 1.4424, 1.441, 1.4393, 1.438, 1.4362, 1.4352, 1.435, 1.432, 1.4315, 1.4296, 1.4293, 1.4272, 1.4271, 1.4262, 1.4242, 1.4241, 1.4241, 1.4241, 1.4233, 1.4232, 1.4224, 1.4224, 1.4195, 1.3947, 1.3918, 1.3851, 1.3926, 1.4044, 1.3365, 1.3749, 1.3928, 1.3728, 1.4015, 1.3156, 1.3891, 1.2008, 1.2545, 1.2488, 1.2655, 1.2745, 1.3429, 1.3087, 1.2794, 1.3084, 1.0777, 1.2359, 1.159, 1.2148, 1.0989, 1.2602, 1.098, 1.2296, 0.945, 0.4892, 0.8213, 0.9363, 0.9637, 0.7377, 0.9051, 1.0594, 0.7645, 0.9218, 0.7718, 0.6362, 1.0062, 0.7944, 0.7768, 0.4924, 0.2164, 0.3134, 1.5678, 1.5651, 1.5593, 1.5542, 1.5532, 1.549, 1.5443, 1.5408, 1.5391, 1.5319, 1.5316, 1.5301, 1.5188, 1.5181, 1.5142, 1.5026, 1.5018, 1.5013, 1.4976, 1.4952, 1.4941, 1.4937, 1.4925, 1.4836, 1.483, 1.4826, 1.4812, 1.4801, 1.4773, 1.4769, 1.4711, 1.4594, 1.4501, 1.4462, 1.4643, 1.426, 1.3736, 1.405, 1.4487, 1.4359, 1.337, 1.4518, 1.4221, 1.281, 1.2571, 1.3039, 1.3509, 1.3533, 1.2389, 1.345, 1.2876, 0.917, 0.9649, 0.9733, 1.1338, 1.0998, 1.1159, 0.5355, 0.8439, 0.9894, 0.738, 1.0509, 1.0585, 1.1211, 0.7341, 0.6112, 0.9517, 0.6531, 0.4695, 1.129, 1.1237, 1.1232, 1.122, 1.1204, 1.1194, 1.1176, 1.1166, 1.1162, 1.1142, 1.1115, 1.111, 1.111, 1.1105, 1.1093, 1.1091, 1.1082, 1.1078, 1.1065, 1.1062, 1.105, 1.1049, 1.1037, 1.1029, 1.1019, 1.1018, 1.1014, 1.1011, 1.1001, 1.1, 1.0947, 1.0965, 1.084, 1.0876, 1.0936, 1.0853, 1.0904, 1.0931, 1.0514, 1.0756, 1.0566, 1.0887, 1.0192, 1.0486, 1.0716, 0.9579, 0.9987, 0.967, 0.9063, 0.8283, 0.9727, 0.957, 0.7702, 0.6044, 0.8343, 0.8686, 0.9679, 0.9562, 0.9248, 0.8572, 1.0392, 0.5691, 0.5219, 0.7118, 0.4882, 0.8189, 0.358, 0.273, 0.3309, 0.389, -0.0431, 0.2118, 0.2878, 0.1509, 0.1298, 0.379, 0.2824, -0.0881, 0.4226, 2.0626, 2.0536, 2.0437, 2.0367, 2.0177, 2.0088, 1.9976, 1.9921, 1.9901, 1.9885, 1.9878, 1.9821, 1.9788, 1.9623, 1.9555, 1.941, 1.9394, 1.9376, 1.9284, 1.9246, 1.916, 1.916, 1.9135, 1.9023, 1.9011, 1.8848, 1.8845, 1.8842, 1.8687, 1.8667, 1.848, 1.8569, 1.8264, 1.8243, 1.863, 1.8264, 1.7205, 1.8228, 1.7583, 1.4883, 1.6357, 1.5451, 1.4946, 1.4902, 1.5896, 1.0163, 1.502, 1.0907, 1.4824, 1.3887, 1.3326, 1.007, 1.2332, 0.575, 0.798, 0.4157, 1.0046, 0.6911, 0.6973, 0.2799, 0.1239, 0.4691, 1.0167, 0.1722, 0.2566, 2.0633, 2.0531, 2.0414, 2.0356, 2.0321, 2.0319, 2.0157, 2.0023, 1.9982, 1.9858, 1.9856, 1.983, 1.9756, 1.966, 1.9612, 1.9591, 1.9579, 1.9568, 1.9502, 1.9447, 1.9432, 1.9413, 1.9397, 1.9388, 1.9346, 1.9268, 1.9262, 1.9205, 1.9001, 1.8992, 1.8979, 1.897, 1.8848, 1.8749, 1.8279, 1.8711, 1.8364, 1.8132, 1.8393, 1.8411, 1.6709, 1.4691, 1.6274, 1.6457, 1.4057, 1.2515, 1.6427, 1.6938, 1.4195, 1.5376, 1.6027, 0.9624, 1.5828, 1.2556, 1.024, 1.3141, 1.6358, 1.425, 1.6995, 1.1383, 0.6104, 0.7445, 1.0993, 0.6926, 1.1654, 1.0661, 0.8446, -0.0]}, \"token.table\": {\"Topic\": [1, 2, 3, 4, 5, 2, 3, 2, 3, 5, 1, 2, 3, 4, 5, 1, 2, 3, 4, 5, 5, 4, 1, 2, 3, 4, 5, 2, 5, 2, 3, 4, 5, 5, 2, 3, 5, 1, 2, 3, 4, 5, 2, 3, 3, 4, 5, 1, 2, 3, 4, 5, 1, 3, 4, 5, 4, 1, 2, 3, 4, 5, 1, 2, 3, 4, 2, 3, 5, 2, 4, 5, 1, 2, 4, 5, 1, 3, 4, 5, 1, 2, 2, 5, 3, 1, 5, 3, 4, 2, 3, 1, 3, 4, 1, 2, 3, 4, 5, 2, 5, 3, 2, 5, 1, 1, 2, 3, 4, 5, 1, 2, 5, 1, 2, 3, 5, 4, 3, 2, 3, 5, 3, 3, 4, 1, 3, 4, 3, 4, 3, 2, 4, 3, 4, 3, 1, 2, 3, 5, 2, 3, 4, 5, 2, 3, 4, 5, 1, 3, 4, 5, 4, 1, 2, 3, 4, 1, 1, 1, 2, 3, 4, 3, 4, 5, 1, 3, 4, 1, 2, 3, 4, 1, 2, 3, 4, 1, 1, 2, 1, 2, 3, 4, 5, 2, 3, 4, 2, 4, 5, 2, 3, 5, 2, 3, 4, 5, 2, 5, 2, 3, 5, 2, 5, 1, 2, 3, 4, 5, 1, 5, 2, 3, 4, 5, 2, 3, 4, 5, 5, 2, 3, 4, 3, 5, 3, 2, 4, 1, 2, 3, 4, 5, 1, 2, 3, 4, 5, 5, 3, 4, 3, 2, 5, 2, 3, 4, 5, 1, 2, 4, 2, 4, 1, 2, 4, 5, 1, 3, 4, 1, 2, 3, 4, 5, 1, 3, 4, 1, 3, 1, 1, 2, 3, 5, 1, 2, 3, 4, 5, 3, 5, 2, 1, 2, 4, 1, 1, 2, 4, 1, 4, 5, 1, 3, 4, 1, 4, 2, 3, 4, 5, 1, 2, 3, 4, 1, 2, 5, 1, 2, 5, 1, 2, 5, 1, 4, 1, 2, 3, 4, 3, 1, 2, 3, 4, 5, 1, 2, 3, 4, 5, 1, 3, 2, 3, 4, 5, 1, 3, 1, 3, 1, 1, 1, 5, 3, 4, 5, 1, 1, 2, 3, 4, 5, 1, 2, 3, 4, 5, 1, 2, 3, 4, 5, 1, 2, 3, 4, 1, 2, 4, 5, 2, 3, 4, 5, 2, 4, 2, 3, 4, 5, 2, 3, 4, 5, 2, 3, 4, 5, 2, 3, 4, 5, 2, 2, 4, 1, 2, 3, 4, 5, 1, 2, 3, 4, 5, 1, 3, 4, 5, 3, 2, 3, 4, 5, 3, 1, 3, 4, 5, 1, 2, 3, 4, 5, 2, 3, 4, 5, 2, 3, 5, 1, 2, 3, 1, 3, 4, 1, 3, 4, 5, 1, 2, 3, 4, 5, 1, 2, 3, 4, 5, 1, 2, 3, 4, 5, 1, 1, 2, 3, 4, 5, 1, 3, 4, 5, 1, 2, 3, 4, 5, 1, 2, 3, 4, 5, 1, 2, 3, 5, 2, 3, 2, 3, 5, 1, 2, 4, 1, 2, 3, 4, 5, 2, 4, 2, 3, 2, 4, 3, 4, 3, 4, 5, 2, 4, 5, 1, 2, 3, 4, 1, 2, 3, 4, 2, 3, 4, 1, 2, 3, 4, 5, 2, 3, 5, 1, 2, 3, 4, 5, 2, 4, 2, 1, 3, 4, 5, 3, 1, 3, 2, 4, 1, 2, 3, 4, 5, 1, 3, 1, 4, 2, 4, 1, 2, 3, 4, 5, 2, 3, 4, 5, 2, 3, 4, 5, 1, 2, 3, 4, 5, 3, 1, 1, 3, 4, 1, 2, 3, 4, 5, 2, 5, 2, 5, 1, 2, 3, 4, 5, 1, 2, 3, 4, 1, 1, 2, 3, 4, 5, 1, 2, 4, 5, 3, 2, 3, 4, 5, 2, 3, 4, 5, 1, 2, 4, 5, 3, 3, 1, 2, 3, 4, 5, 3, 4, 2, 3, 4, 5, 5, 2, 5, 1, 2, 3, 4, 5, 1, 2, 4, 5, 4, 2, 3, 4, 5, 1, 2, 4, 5, 4, 1, 2, 3, 4, 5, 2, 3, 4, 2, 3, 4, 5, 4, 5, 3, 5, 1, 2, 3, 1, 2, 3, 4, 5, 3, 1, 4, 4, 5, 3, 4, 1, 2, 5, 5, 3, 3, 1, 2, 3, 4, 5, 1, 3, 4, 5, 2, 3, 4, 5, 1, 2, 3, 4, 5, 3, 1, 3, 5, 1, 2, 3, 4, 5, 2, 3, 4, 5, 1, 3, 4, 1, 2, 1, 2, 3, 4, 5, 1, 2, 3, 4, 5, 2, 3, 4, 5, 1, 2, 4, 5, 5, 1, 2, 3, 4, 5, 2, 3, 4, 5, 1, 2, 3, 4, 5, 2, 3, 5, 1, 3, 2, 1, 2, 3, 4, 5, 1, 3, 4, 5, 3, 3, 4, 3, 4, 5, 1, 3, 1, 1, 2, 3, 4, 5, 2, 3, 4, 5, 2, 3, 5, 2, 4, 1, 2, 3, 4, 5, 1, 2, 3, 4, 5, 1, 1, 3, 5, 1, 3, 4, 5, 1, 1, 2, 3, 4, 5, 2, 2, 4, 5, 3, 4, 5, 2, 4, 4, 5, 1, 2, 3, 4, 5, 1, 3, 4, 5, 2, 5, 3, 5, 1, 3, 3, 2, 3, 4, 5, 4, 2, 4, 5, 2, 3, 4, 5, 1, 2, 3, 4, 5, 1, 2, 3, 4, 5, 2, 4, 1, 2, 3, 5, 2, 3, 5, 5, 1, 1, 2, 3, 4, 5, 1, 3, 1, 2, 4, 5, 1, 2, 3, 4, 5, 1, 2, 3, 4, 5, 1, 3, 4, 2, 3, 5, 1, 1, 3, 4, 1, 2, 3, 4, 5, 1, 2, 3, 4, 5, 3, 3, 1, 1, 3, 4, 2, 5, 1, 2, 3, 4, 5], \"Freq\": [0.0035342648409990803, 0.5124684019448666, 0.37109780830490346, 0.021205589045994483, 0.09542515070697517, 0.7845957610445335, 0.20399489787157873, 0.7166073431137229, 0.19263638255745238, 0.09246546362757715, 0.008701855812032746, 0.5830243394061939, 0.21754639530081862, 0.052211134872196474, 0.14793154880455667, 0.017484361995350986, 0.17484361995350986, 0.3933981448953972, 0.043710904988377465, 0.3671716019023707, 0.9291947100637629, 0.979443194687792, 0.01564117979804604, 0.21897651717264455, 0.08602648888925321, 0.17987356767752946, 0.5083383434364963, 0.07733018504188215, 0.8506320354607035, 0.28156351428108406, 0.31200281312228234, 0.33483228725318104, 0.06848842239269612, 0.929295357589952, 0.15413367860908467, 0.231200517913627, 0.6011213465754303, 0.010035385077029791, 0.3713092478501023, 0.20070770154059583, 0.3412030926190129, 0.07024769553920854, 0.9527734771383525, 0.03528790656067972, 0.9730777290328773, 0.08359070234674015, 0.8359070234674016, 0.038040727716640424, 0.1521629108665617, 0.5668068429779424, 0.1635751291815538, 0.08368960097660894, 0.9700272268753705, 0.3979431088764669, 0.5536599775672583, 0.03460374859795364, 0.8967305439608114, 0.06005597255439063, 0.6305877118211016, 0.1801679176631719, 0.06005597255439063, 0.06005597255439063, 0.20872012378176513, 0.05218003094544128, 0.13914674918784342, 0.6087670276968149, 0.9329649517552191, 0.08985457536997157, 0.8086911783297441, 0.135255291655066, 0.0338138229137665, 0.8115317499303961, 0.10859057916849099, 0.626484110587448, 0.10859057916849099, 0.15870930801548683, 0.6618248394745206, 0.29055724659857, 0.024213103883214168, 0.03228413851095223, 0.9715235662110072, 0.9555709325556467, 0.8800958080146263, 0.05500598800091414, 0.9870672228767965, 0.945445288152589, 0.02780721435742909, 0.9530041846640817, 0.030254101100447038, 0.856083453129323, 0.1275017908916013, 0.840309798333744, 0.108929047932152, 0.031122585123472, 0.13292865408738852, 0.03467704019671004, 0.3409908952676488, 0.248518788076422, 0.248518788076422, 0.966298923587629, 0.02542891904177971, 0.9618179614138382, 0.06389411257512706, 0.9264646323393423, 0.9735003530276861, 0.10987764301333927, 0.5398336374133625, 0.12898679832000698, 0.14809595362667466, 0.07165933240000387, 0.04333522694388199, 0.04333522694388199, 0.8667045388776398, 0.600641099806088, 0.09193486221521757, 0.300320549903044, 0.006128990814347837, 0.9558216473080516, 0.9715751806410012, 0.12149472579140382, 0.2733631330306586, 0.6074736289570191, 0.9791233846928175, 0.16265419193622657, 0.8132709596811328, 0.09789597887384885, 0.048947989436924425, 0.8321158204277151, 0.1846307255911839, 0.7754490474829724, 0.9770008441533781, 0.11167288106653572, 0.8561587548434406, 0.9557279880019961, 0.02896145418187867, 0.9699530870797974, 0.06424803731573572, 0.08719376492849848, 0.7939221754015914, 0.05506974627063062, 0.09401443040415414, 0.04700721520207707, 0.0705108228031156, 0.7756190508342716, 0.10467924917312695, 0.03489308305770898, 0.06978616611541796, 0.7676478272695977, 0.1543691361210894, 0.12349530889687153, 0.07203893018984173, 0.6586416474499815, 0.8853360385895106, 0.9182561730187151, 0.0483292722641429, 0.02416463613207145, 0.8986963379224974, 0.963611952111819, 0.9666732823702414, 0.05024372377820742, 0.7871516725252495, 0.13398326340855313, 0.03349581585213828, 0.9699754915419418, 0.041867289315799944, 0.9629476542633988, 0.9673429775983494, 0.16532857995940303, 0.8266428997970151, 0.18181855497153004, 0.02479343931429955, 0.0991737572571982, 0.6942163008003874, 0.09771760160699508, 0.09771760160699508, 0.04885880080349754, 0.7817408128559606, 0.9672861933612693, 0.9250739647050292, 0.03426199869277886, 0.5857893206934464, 0.05374213951316022, 0.2955817673223812, 0.048367925561844195, 0.016122641853948065, 0.0540255139960711, 0.7563571959449953, 0.18908929898624882, 0.0602647370625785, 0.0602647370625785, 0.8437063188760989, 0.026667849927939812, 0.9467086724418633, 0.026667849927939812, 0.5485882895866893, 0.2021114751108855, 0.15158360633316412, 0.09383747058719684, 0.9327568512900268, 0.07462054810320215, 0.951559983590222, 0.9889064839202651, 0.9284735647923408, 0.926810855060495, 0.9493243837830874, 0.07762613232457266, 0.6382593102242641, 0.02587537744152422, 0.043125629069207035, 0.21562814534603517, 0.9535309292383167, 0.01869668488702582, 0.1568639720565048, 0.26546210655716196, 0.012066459388961908, 0.5671235912812096, 0.24564225481853652, 0.7274789854241274, 0.009447779031482174, 0.01889555806296435, 0.9720099865486674, 0.12666161907677354, 0.06333080953838677, 0.823300523999028, 0.961548818625515, 0.025987805908797703, 0.9662542120396853, 0.11983838598986171, 0.838868701929032, 0.0380963065322735, 0.05714445979841025, 0.1904815326613675, 0.6285890577825127, 0.076192613064547, 0.284441881419635, 0.09922391212312849, 0.39689564849251396, 0.09591644838569088, 0.12237615828519181, 0.9318655713989206, 0.9496159032346987, 0.04828555440176434, 0.9715701540193231, 0.05436002124235915, 0.9241203611201055, 0.2613855971653895, 0.05881175936221264, 0.24831631730712003, 0.4312862353228927, 0.3345434421872319, 0.18734432762484987, 0.4683608190621247, 0.11353208128826497, 0.8514906096619873, 0.010050193841931452, 0.8090406042754819, 0.05527606613062298, 0.12562742302414315, 0.8735860752508359, 0.10418916493817308, 0.016029102298180473, 0.7969226538374561, 0.016836394095157522, 0.14030328412631268, 0.016836394095157522, 0.028060656825262535, 0.8135634681914458, 0.12845738971443882, 0.05709217320641725, 0.9088601157871681, 0.058636136502397934, 0.9862450326969333, 0.03108561420395239, 0.07253309980922225, 0.8703971977106669, 0.020723742802634927, 0.011825717828918647, 0.34294581703864074, 0.08278002480243053, 0.5439830201302578, 0.023651435657837293, 0.9640870350822464, 0.024720180386724265, 0.967613258113446, 0.0613868090944636, 0.153467022736159, 0.767335113680795, 0.9827495596585375, 0.10410989890991258, 0.8707373363374507, 0.018929072529075015, 0.07469762607628504, 0.07469762607628504, 0.8216738868391353, 0.8534756753893022, 0.12192509648418604, 0.020320849414031006, 0.019703520713962253, 0.9654725149841503, 0.3284858119223441, 0.22194987292050278, 0.07102395933456089, 0.38175378142326477, 0.06415114259503983, 0.010691857099173306, 0.02138371419834661, 0.8981159963305576, 0.9648742846864276, 0.057090298853054396, 0.9134447816488703, 0.973553015974834, 0.23252448451473645, 0.7626803092083355, 0.9457284144805724, 0.921138438139643, 0.06140922920930953, 0.9807122292794972, 0.945793172605666, 0.07646695338815285, 0.10923850484021834, 0.8083649358176157, 0.010923850484021835, 0.968206890359246, 0.020201386329675306, 0.22221524962642836, 0.2676683688681978, 0.3434235676044802, 0.15151039747256478, 0.47971172511751436, 0.08158362672066571, 0.2186441196113841, 0.140323837959545, 0.08158362672066571, 0.6901508838471436, 0.31124451624479027, 0.2050494003325715, 0.36615964345102053, 0.08787831442824492, 0.34052846840944906, 0.9331133050440935, 0.06220755366960624, 0.964682724914222, 0.03111879757787813, 0.9715195133875313, 0.9785864560033004, 0.9673118811500625, 0.9288830198121014, 0.2769443032388635, 0.059345207836899325, 0.6725790221515257, 0.9673105146627561, 0.2110469962265096, 0.29363060344557856, 0.2569267780148813, 0.1605792362593008, 0.07799562904023181, 0.3128331251506029, 0.08938089290017226, 0.5213885419176715, 0.04469044645008613, 0.0335178348375646, 0.37587265937241715, 0.06834048352225766, 0.47411210443566254, 0.06834048352225766, 0.017085120880564415, 0.8433965499384953, 0.04362395947957735, 0.014541319826525782, 0.0872479189591547, 0.012508935716405486, 0.2626876500445152, 0.08756255001483841, 0.6254467858202744, 0.05542121150961864, 0.08313181726442796, 0.02771060575480932, 0.8313181726442795, 0.9175761566094911, 0.07646467971745759, 0.8769022751296127, 0.061898984126796196, 0.030949492063398098, 0.020632994708932064, 0.12015027662293438, 0.030037569155733596, 0.06007513831146719, 0.7809767980490735, 0.08524671344989525, 0.08524671344989525, 0.028415571149965083, 0.7956359921990224, 0.12532559426600245, 0.025065118853200487, 0.7268884467428142, 0.12532559426600245, 0.9124281865520288, 0.9006358792457589, 0.07205087033966072, 0.0747925936204149, 0.7396156480241028, 0.1329646108807376, 0.0166205763600922, 0.0332411527201844, 0.12251457564025982, 0.011668054822881887, 0.8342659198360549, 0.023336109645763773, 0.005834027411440943, 0.01592590872504646, 0.2707404483257898, 0.0796295436252323, 0.6370363490018583, 0.9641528085474507, 0.007573354711440026, 0.8406423729698428, 0.05301348298008018, 0.09845361124872033, 0.9840751550571748, 0.7843593328405669, 0.15466240365870332, 0.011047314547050237, 0.04418925818820095, 0.5901377408928051, 0.01044491576801425, 0.2872351836203919, 0.0626694946080855, 0.047002120956064125, 0.1463225563985593, 0.33654187971668637, 0.4974966917551016, 0.014632255639855929, 0.9268720268939408, 0.9738167686217333, 0.019476335372434664, 0.03618913688755975, 0.054283705331339624, 0.9047284221889937, 0.01633791399771122, 0.9475990118672508, 0.01633791399771122, 0.49629338380688276, 0.4411496744950069, 0.04901663049944521, 0.018381236437291955, 0.6231736846882029, 0.008199653745897408, 0.20499134364743518, 0.10659549869666629, 0.057397576221281846, 0.08435262992491936, 0.4097127739210369, 0.03615112711067972, 0.42176314962459677, 0.048201502814239634, 0.5076450818101637, 0.04333555576428227, 0.26620412826630535, 0.14857904833468205, 0.03714476208367051, 0.9636134092945492, 0.6729679467566954, 0.008412099334458691, 0.2018903840270086, 0.05047259600675215, 0.06729679467566953, 0.8043651304768973, 0.17874780677264385, 0.005958260225754795, 0.01191652045150959, 0.015573759444403205, 0.4672127833320961, 0.18688511333283844, 0.03893439861100801, 0.2881145497214593, 0.685318757995546, 0.12320337222391838, 0.10780295069592859, 0.04620126458396939, 0.03850105381997449, 0.9216641317145462, 0.023333269157330284, 0.04666653831466057, 0.011666634578665142, 0.9463350098252624, 0.037853400393010495, 0.8933280768254317, 0.059555205121695445, 0.029777602560847723, 0.03160030580141704, 0.916408868241094, 0.03160030580141704, 0.4310720089721979, 0.0212002627363376, 0.45933902595398135, 0.08126767382262746, 0.0035333771227229337, 0.8573270627683461, 0.14288784379472436, 0.8915990672468903, 0.049533281513716124, 0.9711094662229768, 0.9612811699009862, 0.9475691736022065, 0.04407298481870728, 0.045039013711408435, 0.9007802742281686, 0.045039013711408435, 0.8314944485995296, 0.059392460614252116, 0.09898743435708686, 0.030186579178318018, 0.08049754447551472, 0.8452242169929045, 0.030186579178318018, 0.04992157113354106, 0.07131653019077294, 0.5134790173735652, 0.3708459569920193, 0.04126032190406051, 0.12378096571218154, 0.7839461161771497, 0.17054687754266518, 0.15504261594787744, 0.4651278478436323, 0.1963873135339781, 0.010336174396525163, 0.5271464234042358, 0.42982708369883843, 0.03243977990179913, 0.007752355833222586, 0.6124361108245843, 0.16279947249767432, 0.031009423332890345, 0.18605653999734206, 0.9206371529561374, 0.07464625564509221, 0.9552194880623706, 0.031245494269590987, 0.9061193338181386, 0.015622747134795494, 0.031245494269590987, 0.9855694515768124, 0.9229998960905683, 0.07178888080704421, 0.13493197518737685, 0.85456917618672, 0.11454560135227121, 0.1298183481992407, 0.7330918486545357, 0.010181831231312995, 0.012727289039141245, 0.7597472692528926, 0.23701517374128703, 0.20119842754167977, 0.7880271745382458, 0.04914357541948218, 0.8845843575506792, 0.02317666583926996, 0.42645065144256733, 0.42645065144256733, 0.11124799602849582, 0.013905999503561977, 0.14878301423524415, 0.8307051628134464, 0.012398584519603678, 0.012398584519603678, 0.019136457946611923, 0.21050103741273116, 0.13395520562628346, 0.6315031122381934, 0.49048562211653246, 0.00784776995386452, 0.4277034624856163, 0.05101050470011938, 0.02354330986159356, 0.9663057504606776, 0.953862552612723, 0.14491190687719266, 0.8332434645438578, 0.018113988359649082, 0.07700408974214204, 0.33689289262187144, 0.12513164583098083, 0.10588062339544531, 0.35614391505740695, 0.07402736655385132, 0.9130041874974998, 0.1759167541658154, 0.8041908761865846, 0.24094777704679973, 0.1468275516378936, 0.444247463930037, 0.12423869753975612, 0.04141289917991871, 0.8980564858907933, 0.018709510122724864, 0.018709510122724864, 0.03741902024544973, 0.9892182418587581, 0.5679563921803653, 0.08414168773042449, 0.16828337546084898, 0.07362397676412143, 0.10517710966303061, 0.023526110547063, 0.846939979694268, 0.0588152763676575, 0.0588152763676575, 0.9910664355618178, 0.9124146689882825, 0.9302865219297193, 0.02114287549840271, 0.02114287549840271, 0.059289568147826516, 0.8419118676991365, 0.04743165451826121, 0.04743165451826121, 0.1462141275033569, 0.026584386818792164, 0.5848565100134276, 0.23925948136912947, 0.9641653665390166, 0.9730728856465548, 0.013463961318313795, 0.06731980659156898, 0.690028017563582, 0.18849545845639315, 0.03702589362536294, 0.08277757348661761, 0.8277757348661762, 0.2726587406021191, 0.23857639802685418, 0.34082342575264885, 0.15337054158869198, 0.8136632596027092, 0.8878548264764072, 0.05222675449861219, 0.04715170474025313, 0.7544272758440501, 0.011787926185063283, 0.10609133566556954, 0.08251548329544298, 0.015912370641915672, 0.7956185320957836, 0.06364948256766269, 0.12729896513532538, 0.8652659625199478, 0.5383777062110536, 0.2170877847625216, 0.09117686960025907, 0.15196144933376513, 0.010460296882017437, 0.8891252349714822, 0.010460296882017437, 0.0836823750561395, 0.8994169772377775, 0.008854591673448497, 0.5932576421210494, 0.07969132506103647, 0.15938265012207295, 0.15938265012207295, 0.8639057222027766, 0.08860571509772068, 0.04430285754886034, 0.3286764493976233, 0.41333553484852625, 0.14939838608982878, 0.10955881646587443, 0.05179902752991298, 0.8805834680085207, 0.945992958765717, 0.04614599798857156, 0.1124876996792664, 0.8717796725143147, 0.9819128675756004, 0.054863545525532964, 0.7406578645946951, 0.10972709105106593, 0.054863545525532964, 0.04114765914414972, 0.9902533534287866, 0.06011994579777584, 0.9017991869666376, 0.10877520505709362, 0.870201640456749, 0.10742220559687041, 0.8593776447749633, 0.054874977047414106, 0.9054371212823327, 0.027437488523707053, 0.9793676529466812, 0.9867890167564682, 0.9641848068416474, 0.03883918704235081, 0.7088151635229023, 0.058258780563526215, 0.15535674816940323, 0.04854898380293851, 0.15488227336468044, 0.1393940460282124, 0.06195290934587217, 0.6350173207951898, 0.9483276557041745, 0.034694914233079556, 0.051798045831271566, 0.8805667791316166, 0.49631652871935555, 0.018728925612051153, 0.2809338841807673, 0.10300909086628134, 0.09832685946326855, 0.9618152865536395, 0.8218377217140453, 0.16436754434280906, 0.009668679078988768, 0.3732017241962024, 0.017416080462489446, 0.5859267069880377, 0.003732017241962024, 0.019904091957130794, 0.8659792137868292, 0.05093995375216642, 0.008489992292027737, 0.07640993062824963, 0.9235707754728877, 0.026387736442082504, 0.05277547288416501, 0.05483220545047667, 0.9321474926581034, 0.174740995232995, 0.04077289888769883, 0.48927478665238594, 0.27376089253169217, 0.017474099523299497, 0.01117841437648633, 0.10060572938837697, 0.25710353065918556, 0.5477423044478301, 0.08942731501189063, 0.05840977193948165, 0.33377012536846656, 0.14185230328159829, 0.45893392238164155, 0.1349764994093534, 0.2699529988187068, 0.0736235451323746, 0.5153648159266221, 0.9027195155427007, 0.009824191652680572, 0.4273523368916049, 0.2161322163589726, 0.08841772487412515, 0.2603410787960352, 0.41761890807043145, 0.11778994843012168, 0.06424906278006637, 0.3962025538104093, 0.016253622398252284, 0.04876086719475685, 0.07314130079213528, 0.040634055995630705, 0.8208079311117403, 0.8852935947349827, 0.026827078628332807, 0.10730831451333123, 0.9433915034313548, 0.04965218439112394, 0.9728935132112088, 0.34535713520245936, 0.47309196603076625, 0.10881115218707624, 0.052040116263384284, 0.014192758980922987, 0.7838269279627942, 0.16217108854402637, 0.04054277213600659, 0.013514257378668865, 0.9834906253879756, 0.964224068999161, 0.024410735924029394, 0.9661384095953528, 0.023564351453545188, 0.023564351453545188, 0.07688368242452445, 0.9097902420235393, 0.9636114995952526, 0.008238496669676666, 0.34807648429383914, 0.3068840009454558, 0.014417369171934166, 0.32130137011738996, 0.121918634897227, 0.2926047237533448, 0.048767453958890795, 0.5333940276753681, 0.051895429214870926, 0.19028324045452674, 0.761132961818107, 0.04913842279521858, 0.8844916103139344, 0.11160285355390591, 0.013950356694238239, 0.055801426776952955, 0.7672696181831031, 0.055801426776952955, 0.01449813537544545, 0.1159850830035636, 0.10148694762811815, 0.7684011748986088, 0.01449813537544545, 0.9636307676968372, 0.8797293083496196, 0.09163846961975204, 0.01832769392395041, 0.7736358830341792, 0.07627396029914442, 0.021792560085469835, 0.14165164055555393, 0.9636158843839904, 0.02102863268285221, 0.7780594092655319, 0.08411453073140884, 0.05607635382093923, 0.06308589804855663, 0.9898668422100154, 0.393496562341329, 0.10416085473741063, 0.503444131230818, 0.08996149283694396, 0.7796662712535143, 0.1499358213949066, 0.4367302916762647, 0.5415455616785682, 0.961267955379354, 0.9193054150886809, 0.8081720621791847, 0.014303930304056366, 0.10012751212839456, 0.05006375606419728, 0.028607860608112733, 0.06729378039059665, 0.11215630065099441, 0.1570188209113922, 0.6729378039059665, 0.12991877088346224, 0.8228188822619276, 0.1116476231753764, 0.8559651110112191, 0.9583503221324904, 0.034226797219017516, 0.9757545118362277, 0.026924671016248562, 0.10769868406499425, 0.8077401304874569, 0.053849342032497124, 0.9803513943478128, 0.04702882025247418, 0.8935475847970095, 0.04702882025247418, 0.1104698525959699, 0.42179398263915785, 0.03682328419865664, 0.42848912522073174, 0.024527681120644067, 0.08175893706881356, 0.3433875356890169, 0.5477848783610508, 0.772595384632068, 0.2485710152964011, 0.3748293087802874, 0.07891143342742893, 0.07102029008468604, 0.22489758526817244, 0.8829547835330703, 0.08026861668482457, 0.8251168239257773, 0.023574766397879355, 0.14144859838727614, 0.011787383198939677, 0.09619443178516017, 0.048097215892580085, 0.8657498860664415, 0.9423156841257142, 0.9666739327377716, 0.03375437225976541, 0.16202098684687397, 0.7628488130706982, 0.03375437225976541, 0.013501748903906163, 0.9232652116403789, 0.0683900156770651, 0.5776901524888858, 0.30113635608463196, 0.03072819960047265, 0.09218459880141794, 0.520275703354654, 0.0945955824281189, 0.23648895607029724, 0.10551045732367108, 0.04729779121405945, 0.11521171784618997, 0.05236896265735908, 0.738402373468763, 0.0628427551888309, 0.03142137759441545, 0.7261851345512746, 0.24690294574743338, 0.02178555403653824, 0.08307089190468454, 0.8860895136499685, 0.027690297301561514, 0.9706054409706463, 0.900966905731936, 0.07207735245855489, 0.01801933811463872, 0.28407116208488586, 0.2257003753551148, 0.16732958862534372, 0.21791760379114533, 0.10506741611358793, 0.10933656885426446, 0.17962436311772018, 0.5388730893531605, 0.14838534344507318, 0.02342926475448524, 0.9744586381020767, 0.9757574902516137, 0.9511281587155572, 0.015866157947773633, 0.9202371609708706, 0.06346463179109453, 0.9206462217865288, 0.061376414785768586, 0.06735380081113378, 0.2087967825145147, 0.6533318678679976, 0.0606184207300204, 0.013470760162226755], \"Term\": [\"000\", \"000\", \"000\", \"000\", \"000\", \"1959\", \"1959\", \"1960\", \"1960\", \"1960\", \"1961\", \"1961\", \"1961\", \"1961\", \"1961\", \"30\", \"30\", \"30\", \"30\", \"30\", \"62\", \"academic\", \"act\", \"act\", \"act\", \"act\", \"act\", \"adjustments\", \"adjustments\", \"administration\", \"administration\", \"administration\", \"administration\", \"adopting\", \"agreement\", \"agreement\", \"agreement\", \"aid\", \"aid\", \"aid\", \"aid\", \"aid\", \"aircraft\", \"aircraft\", \"alexander\", \"allocation\", \"allocation\", \"american\", \"american\", \"american\", \"american\", \"american\", \"anne\", \"anti\", \"anti\", \"anti\", \"appearances\", \"areas\", \"areas\", \"areas\", \"areas\", \"areas\", \"art\", \"art\", \"art\", \"art\", \"assessment\", \"assigned\", \"assigned\", \"authorized\", \"authorized\", \"authorized\", \"available\", \"available\", \"available\", \"available\", \"away\", \"away\", \"away\", \"away\", \"baby\", \"bankers\", \"banks\", \"banks\", \"baseball\", \"bed\", \"bed\", \"berlin\", \"berlin\", \"billion\", \"billion\", \"black\", \"black\", \"black\", \"board\", \"board\", \"board\", \"board\", \"board\", \"boats\", \"boats\", \"bombs\", \"bonds\", \"bonds\", \"bride\", \"business\", \"business\", \"business\", \"business\", \"business\", \"calendar\", \"calendar\", \"calendar\", \"came\", \"came\", \"came\", \"came\", \"campus\", \"captain\", \"cars\", \"cars\", \"cars\", \"castro\", \"catholic\", \"catholic\", \"cattle\", \"cattle\", \"cattle\", \"chamber\", \"chamber\", \"charter\", \"chemical\", \"chemical\", \"china\", \"china\", \"chinese\", \"city\", \"city\", \"city\", \"city\", \"claim\", \"claim\", \"claim\", \"claim\", \"claims\", \"claims\", \"claims\", \"claims\", \"class\", \"class\", \"class\", \"class\", \"classical\", \"clay\", \"clay\", \"clay\", \"clerical\", \"cloth\", \"clothes\", \"co\", \"co\", \"co\", \"co\", \"coach\", \"coal\", \"coal\", \"coat\", \"collective\", \"collective\", \"college\", \"college\", \"college\", \"college\", \"colleges\", \"colleges\", \"colleges\", \"colleges\", \"colored\", \"colors\", \"colors\", \"come\", \"come\", \"come\", \"come\", \"come\", \"committee\", \"committee\", \"committee\", \"commodities\", \"commodities\", \"commodities\", \"communist\", \"communist\", \"communist\", \"company\", \"company\", \"company\", \"company\", \"compared\", \"compared\", \"components\", \"congo\", \"connections\", \"conservation\", \"coordination\", \"cost\", \"cost\", \"cost\", \"cost\", \"cost\", \"couldn\", \"couldn\", \"countries\", \"countries\", \"countries\", \"countries\", \"county\", \"county\", \"county\", \"county\", \"cousin\", \"creative\", \"creative\", \"creative\", \"cuba\", \"cuba\", \"cuban\", \"curriculum\", \"curriculum\", \"daily\", \"daily\", \"daily\", \"daily\", \"daily\", \"day\", \"day\", \"day\", \"day\", \"day\", \"definition\", \"democratic\", \"democratic\", \"democrats\", \"denied\", \"denied\", \"department\", \"department\", \"department\", \"department\", \"design\", \"design\", \"design\", \"designer\", \"designer\", \"development\", \"development\", \"development\", \"development\", \"didn\", \"didn\", \"didn\", \"don\", \"don\", \"don\", \"don\", \"don\", \"door\", \"door\", \"door\", \"drill\", \"drill\", \"dry\", \"east\", \"east\", \"east\", \"east\", \"education\", \"education\", \"education\", \"education\", \"education\", \"eisenhower\", \"eisenhower\", \"electronic\", \"engineer\", \"engineer\", \"engineer\", \"entrance\", \"equipment\", \"equipment\", \"equipment\", \"exercise\", \"exercise\", \"exercise\", \"eyes\", \"eyes\", \"eyes\", \"faculty\", \"faculty\", \"federal\", \"federal\", \"federal\", \"federal\", \"feed\", \"feed\", \"feed\", \"feed\", \"fig\", \"filing\", \"filing\", \"fingers\", \"fiscal\", \"fiscal\", \"flowers\", \"forests\", \"forests\", \"frames\", \"fulfill\", \"game\", \"game\", \"game\", \"game\", \"gen\", \"general\", \"general\", \"general\", \"general\", \"general\", \"good\", \"good\", \"good\", \"good\", \"good\", \"got\", \"got\", \"government\", \"government\", \"government\", \"government\", \"guests\", \"guests\", \"hadn\", \"hadn\", \"hair\", \"ham\", \"handsome\", \"hated\", \"hearing\", \"hearing\", \"hearing\", \"hell\", \"high\", \"high\", \"high\", \"high\", \"high\", \"home\", \"home\", \"home\", \"home\", \"home\", \"house\", \"house\", \"house\", \"house\", \"house\", \"inch\", \"inch\", \"inch\", \"inch\", \"income\", \"income\", \"income\", \"income\", \"india\", \"india\", \"india\", \"india\", \"industrial\", \"industrial\", \"industry\", \"industry\", \"industry\", \"industry\", \"insurance\", \"insurance\", \"insurance\", \"insurance\", \"interference\", \"interference\", \"interference\", \"interference\", \"interior\", \"interior\", \"interior\", \"interior\", \"inventories\", \"investment\", \"investment\", \"island\", \"island\", \"island\", \"island\", \"island\", \"john\", \"john\", \"john\", \"john\", \"john\", \"junior\", \"junior\", \"junior\", \"junior\", \"katanga\", \"kennedy\", \"kennedy\", \"kennedy\", \"kennedy\", \"khrushchev\", \"knew\", \"knew\", \"knew\", \"knew\", \"know\", \"know\", \"know\", \"know\", \"know\", \"labor\", \"labor\", \"labor\", \"labor\", \"laboratory\", \"laos\", \"laos\", \"leaders\", \"leaders\", \"leaders\", \"league\", \"league\", \"league\", \"left\", \"left\", \"left\", \"left\", \"let\", \"let\", \"let\", \"let\", \"let\", \"level\", \"level\", \"level\", \"level\", \"level\", \"life\", \"life\", \"life\", \"life\", \"life\", \"liked\", \"little\", \"little\", \"little\", \"little\", \"little\", \"ll\", \"ll\", \"ll\", \"ll\", \"local\", \"local\", \"local\", \"local\", \"local\", \"look\", \"look\", \"look\", \"look\", \"look\", \"looked\", \"looked\", \"looked\", \"looked\", \"machine\", \"machine\", \"machinery\", \"machinery\", \"machinery\", \"machines\", \"machines\", \"machines\", \"man\", \"man\", \"man\", \"man\", \"man\", \"manufacturers\", \"manufacturers\", \"manufacturing\", \"manufacturing\", \"marketing\", \"mathematics\", \"mayor\", \"mayor\", \"meat\", \"meat\", \"meat\", \"medical\", \"medical\", \"medical\", \"meeting\", \"meeting\", \"meeting\", \"meeting\", \"members\", \"members\", \"members\", \"members\", \"membership\", \"membership\", \"membership\", \"men\", \"men\", \"men\", \"men\", \"men\", \"military\", \"military\", \"military\", \"million\", \"million\", \"million\", \"million\", \"million\", \"missile\", \"missile\", \"missiles\", \"monday\", \"monday\", \"monday\", \"monday\", \"moscow\", \"mother\", \"mother\", \"motors\", \"motors\", \"mr\", \"mr\", \"mr\", \"mr\", \"mr\", \"mrs\", \"mrs\", \"music\", \"music\", \"musical\", \"musical\", \"national\", \"national\", \"national\", \"national\", \"national\", \"nations\", \"nations\", \"nations\", \"nations\", \"officer\", \"officer\", \"officer\", \"officer\", \"old\", \"old\", \"old\", \"old\", \"old\", \"opposition\", \"pale\", \"party\", \"party\", \"party\", \"pay\", \"pay\", \"pay\", \"pay\", \"pay\", \"payment\", \"payment\", \"payments\", \"payments\", \"people\", \"people\", \"people\", \"people\", \"people\", \"pieces\", \"pieces\", \"pieces\", \"pieces\", \"pink\", \"place\", \"place\", \"place\", \"place\", \"place\", \"planning\", \"planning\", \"planning\", \"planning\", \"player\", \"polaris\", \"police\", \"police\", \"police\", \"political\", \"political\", \"political\", \"political\", \"pool\", \"pool\", \"pool\", \"pool\", \"pope\", \"premier\", \"president\", \"president\", \"president\", \"president\", \"president\", \"prestige\", \"prestige\", \"problem\", \"problem\", \"problem\", \"problem\", \"proceedings\", \"procurement\", \"procurement\", \"production\", \"production\", \"production\", \"production\", \"production\", \"products\", \"products\", \"products\", \"products\", \"professors\", \"program\", \"program\", \"program\", \"program\", \"property\", \"property\", \"property\", \"property\", \"prosperity\", \"provide\", \"provide\", \"provide\", \"provide\", \"provide\", \"providence\", \"providence\", \"providence\", \"public\", \"public\", \"public\", \"public\", \"puerto\", \"puerto\", \"race\", \"race\", \"radiation\", \"radiation\", \"railroad\", \"range\", \"range\", \"range\", \"range\", \"range\", \"rayburn\", \"recognition\", \"recognition\", \"recommendation\", \"recommendation\", \"recorded\", \"recorded\", \"recreation\", \"recreation\", \"recreation\", \"rehabilitation\", \"republican\", \"republicans\", \"research\", \"research\", \"research\", \"research\", \"research\", \"return\", \"return\", \"return\", \"return\", \"rhode\", \"rhode\", \"rico\", \"rico\", \"right\", \"right\", \"right\", \"right\", \"right\", \"robinson\", \"room\", \"room\", \"room\", \"said\", \"said\", \"said\", \"said\", \"said\", \"sales\", \"sales\", \"sales\", \"sales\", \"sat\", \"sat\", \"sat\", \"savings\", \"savings\", \"school\", \"school\", \"school\", \"school\", \"school\", \"schools\", \"schools\", \"schools\", \"schools\", \"schools\", \"secretary\", \"secretary\", \"secretary\", \"secretary\", \"section\", \"section\", \"section\", \"section\", \"sectors\", \"service\", \"service\", \"service\", \"service\", \"service\", \"services\", \"services\", \"services\", \"services\", \"shall\", \"shall\", \"shall\", \"shall\", \"shall\", \"shares\", \"shares\", \"shares\", \"shelter\", \"shelter\", \"shipments\", \"small\", \"small\", \"small\", \"small\", \"small\", \"son\", \"son\", \"son\", \"son\", \"southern\", \"soviet\", \"soviet\", \"speaker\", \"speaker\", \"speaker\", \"st\", \"st\", \"stared\", \"state\", \"state\", \"state\", \"state\", \"state\", \"states\", \"states\", \"states\", \"states\", \"stations\", \"stations\", \"stations\", \"stockholders\", \"stockholders\", \"student\", \"student\", \"student\", \"student\", \"student\", \"students\", \"students\", \"students\", \"students\", \"students\", \"studio\", \"sun\", \"sun\", \"sun\", \"sure\", \"sure\", \"sure\", \"sure\", \"sweet\", \"system\", \"system\", \"system\", \"system\", \"system\", \"systems\", \"tax\", \"tax\", \"tax\", \"teachers\", \"teachers\", \"teachers\", \"technical\", \"technical\", \"tends\", \"thereof\", \"thought\", \"thought\", \"thought\", \"thought\", \"thought\", \"title\", \"title\", \"title\", \"title\", \"tractor\", \"tractor\", \"treasury\", \"treasury\", \"trees\", \"trees\", \"troops\", \"trust\", \"trust\", \"trust\", \"trust\", \"trustees\", \"unions\", \"unions\", \"unions\", \"united\", \"united\", \"united\", \"united\", \"university\", \"university\", \"university\", \"university\", \"upstairs\", \"use\", \"use\", \"use\", \"use\", \"use\", \"utility\", \"utility\", \"ve\", \"ve\", \"ve\", \"ve\", \"vehicles\", \"vehicles\", \"vehicles\", \"vocational\", \"walls\", \"war\", \"war\", \"war\", \"war\", \"war\", \"wasn\", \"wasn\", \"water\", \"water\", \"water\", \"water\", \"way\", \"way\", \"way\", \"way\", \"way\", \"week\", \"week\", \"week\", \"week\", \"week\", \"went\", \"went\", \"went\", \"west\", \"west\", \"west\", \"windows\", \"woman\", \"woman\", \"woman\", \"work\", \"work\", \"work\", \"work\", \"work\", \"world\", \"world\", \"world\", \"world\", \"world\", \"yankees\", \"yards\", \"yellow\", \"yesterday\", \"yesterday\", \"yesterday\", \"yield\", \"yield\", \"york\", \"york\", \"york\", \"york\", \"york\"]}, \"R\": 30, \"lambda.step\": 0.01, \"plot.opts\": {\"xlab\": \"PC1\", \"ylab\": \"PC2\"}, \"topic.order\": [1, 2, 3, 4, 5]};\n",
       "\n",
       "function LDAvis_load_lib(url, callback){\n",
       "  var s = document.createElement('script');\n",
       "  s.src = url;\n",
       "  s.async = true;\n",
       "  s.onreadystatechange = s.onload = callback;\n",
       "  s.onerror = function(){console.warn(\"failed to load library \" + url);};\n",
       "  document.getElementsByTagName(\"head\")[0].appendChild(s);\n",
       "}\n",
       "\n",
       "if(typeof(LDAvis) !== \"undefined\"){\n",
       "   // already loaded: just create the visualization\n",
       "   !function(LDAvis){\n",
       "       new LDAvis(\"#\" + \"ldavis_el420425292995758567205797784\", ldavis_el420425292995758567205797784_data);\n",
       "   }(LDAvis);\n",
       "}else if(typeof define === \"function\" && define.amd){\n",
       "   // require.js is available: use it to load d3/LDAvis\n",
       "   require.config({paths: {d3: \"https://d3js.org/d3.v5\"}});\n",
       "   require([\"d3\"], function(d3){\n",
       "      window.d3 = d3;\n",
       "      LDAvis_load_lib(\"https://cdn.jsdelivr.net/gh/bmabey/pyLDAvis@3.3.1/pyLDAvis/js/ldavis.v3.0.0.js\", function(){\n",
       "        new LDAvis(\"#\" + \"ldavis_el420425292995758567205797784\", ldavis_el420425292995758567205797784_data);\n",
       "      });\n",
       "    });\n",
       "}else{\n",
       "    // require.js not available: dynamically load d3 & LDAvis\n",
       "    LDAvis_load_lib(\"https://d3js.org/d3.v5.js\", function(){\n",
       "         LDAvis_load_lib(\"https://cdn.jsdelivr.net/gh/bmabey/pyLDAvis@3.3.1/pyLDAvis/js/ldavis.v3.0.0.js\", function(){\n",
       "                 new LDAvis(\"#\" + \"ldavis_el420425292995758567205797784\", ldavis_el420425292995758567205797784_data);\n",
       "            })\n",
       "         });\n",
       "}\n",
       "</script>"
      ],
      "text/plain": [
       "<IPython.core.display.HTML object>"
      ]
     },
     "execution_count": 112,
     "metadata": {},
     "output_type": "execute_result"
    }
   ],
   "source": [
    "pyLDAvis.display(lda_display)"
   ]
  },
  {
   "cell_type": "markdown",
   "id": "a3d14c87",
   "metadata": {},
   "source": [
    "Q: What conclusions do you draw from the visualization above? Please address the principal component scatterplot and the salient terms graph.\n",
    "\n",
    "A: From the principal component, scatterplot we can see how each topic is represented by a circle and the space or position between is how similar a topic is according to our LDA model. An initial observation we can make is that each topic is spaced from the other alluding to the model correctly grouping distinct topics. Topic 1 and 3 in the scatterplot show how both topics were similar to each other.\n",
    "\n",
    "On the other hand, the salient term graph provides a thorough overview of the terms that are most closely related to each topic and the relationships between all of the topics. We can observe that some words, such as \"state\", \"said\", and \"states\" are used in several different topics and are pertinent to many different topics by scrolling through the topics. Each word's relative importance in a given issue is indicated by its bar size. As a result, the graph offers a thorough perspective of the connections between each topic and the words that are related to it.\n"
   ]
  },
  {
   "cell_type": "code",
   "execution_count": null,
   "id": "cbb7dae6",
   "metadata": {},
   "outputs": [],
   "source": []
  }
 ],
 "metadata": {
  "kernelspec": {
   "display_name": "Python 3",
   "language": "python",
   "name": "python3"
  },
  "language_info": {
   "codemirror_mode": {
    "name": "ipython",
    "version": 3
   },
   "file_extension": ".py",
   "mimetype": "text/x-python",
   "name": "python",
   "nbconvert_exporter": "python",
   "pygments_lexer": "ipython3",
   "version": "3.8.8"
  }
 },
 "nbformat": 4,
 "nbformat_minor": 5
}
